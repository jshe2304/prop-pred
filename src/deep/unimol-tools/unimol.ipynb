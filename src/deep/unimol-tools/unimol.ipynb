{
 "cells": [
  {
   "cell_type": "code",
   "execution_count": 1,
   "id": "4d78423a-7eb9-4b28-8be4-2729ded73736",
   "metadata": {},
   "outputs": [
    {
     "name": "stderr",
     "output_type": "stream",
     "text": [
      "2025-01-14 00:18:52 | unimol_tools/weights/weighthub.py | 17 | INFO | Uni-Mol Tools | Weights will be downloaded to default directory: /scratch/midway3/jshe/.conda/envs/unimol/lib/python3.10/site-packages/unimol_tools/weights\n"
     ]
    }
   ],
   "source": [
    "import numpy as np\n",
    "import pandas as pd\n",
    "import matplotlib.pyplot as plt\n",
    "\n",
    "from unimol_tools import MolPredict, UniMolRepr"
   ]
  },
  {
   "cell_type": "markdown",
   "id": "dcf5549b-00e5-4fa2-b6d6-0cb9ca364c2e",
   "metadata": {},
   "source": [
    "## Data"
   ]
  },
  {
   "cell_type": "code",
   "execution_count": 2,
   "id": "b40dd6bf-38b3-49af-85fb-0c4d2267a1d1",
   "metadata": {},
   "outputs": [],
   "source": [
    "data_path = '../../data/log_normalized/'"
   ]
  },
  {
   "cell_type": "code",
   "execution_count": 3,
   "id": "4db50964-684a-479e-ab98-31855d211383",
   "metadata": {},
   "outputs": [],
   "source": [
    "train_X = pd.read_csv(data_path + 'train/smiles.csv').to_numpy().squeeze().tolist()\n",
    "validation_X = pd.read_csv(data_path + 'validation/smiles.csv').to_numpy().squeeze().tolist()\n",
    "test_X = pd.read_csv(data_path + 'test/smiles.csv').to_numpy().squeeze().tolist()"
   ]
  },
  {
   "cell_type": "markdown",
   "id": "8d7686de-3817-4592-a3ef-1249162e4c57",
   "metadata": {},
   "source": [
    "## Representations"
   ]
  },
  {
   "cell_type": "code",
   "execution_count": 4,
   "id": "b1482006-0ae6-491e-9d5d-1b5573b0e6ac",
   "metadata": {},
   "outputs": [
    {
     "name": "stderr",
     "output_type": "stream",
     "text": [
      "2025-01-14 00:18:55 | unimol_tools/models/unimol.py | 120 | INFO | Uni-Mol Tools | Loading pretrained weights from /scratch/midway3/jshe/.conda/envs/unimol/lib/python3.10/site-packages/unimol_tools/weights/mol_pre_all_h_220816.pt\n",
      "2025-01-14 00:18:58 | unimol_tools/data/conformer.py | 89 | INFO | Uni-Mol Tools | Start generating conformers...\n",
      "2848it [00:47, 60.05it/s] \n",
      "2025-01-14 00:19:45 | unimol_tools/data/conformer.py | 93 | INFO | Uni-Mol Tools | Succeed to generate conformers for 100.00% of molecules.\n",
      "2025-01-14 00:19:45 | unimol_tools/data/conformer.py | 95 | INFO | Uni-Mol Tools | Succeed to generate 3d conformers for 99.93% of molecules.\n",
      "100%|███████████████████████████████████████████| 89/89 [00:09<00:00,  9.22it/s]\n",
      "2025-01-14 00:19:56 | unimol_tools/data/conformer.py | 89 | INFO | Uni-Mol Tools | Start generating conformers...\n",
      "356it [00:03, 95.36it/s] \n",
      "2025-01-14 00:20:00 | unimol_tools/data/conformer.py | 93 | INFO | Uni-Mol Tools | Succeed to generate conformers for 100.00% of molecules.\n",
      "2025-01-14 00:20:00 | unimol_tools/data/conformer.py | 95 | INFO | Uni-Mol Tools | Succeed to generate 3d conformers for 100.00% of molecules.\n",
      "100%|███████████████████████████████████████████| 12/12 [00:01<00:00, 11.89it/s]\n",
      "2025-01-14 00:20:02 | unimol_tools/data/conformer.py | 89 | INFO | Uni-Mol Tools | Start generating conformers...\n",
      "356it [00:04, 80.56it/s]\n",
      "2025-01-14 00:20:07 | unimol_tools/data/conformer.py | 93 | INFO | Uni-Mol Tools | Succeed to generate conformers for 100.00% of molecules.\n",
      "2025-01-14 00:20:07 | unimol_tools/data/conformer.py | 95 | INFO | Uni-Mol Tools | Succeed to generate 3d conformers for 100.00% of molecules.\n",
      "100%|███████████████████████████████████████████| 12/12 [00:01<00:00, 10.40it/s]\n"
     ]
    }
   ],
   "source": [
    "embedder = UniMolRepr(data_type='molecule', remove_hs=False)\n",
    "\n",
    "train_embeddings = embedder.get_repr(train_X, return_atomic_reprs=True)['cls_repr']\n",
    "validation_embeddings = embedder.get_repr(validation_X, return_atomic_reprs=True)['cls_repr']\n",
    "test_embeddings = embedder.get_repr(test_X, return_atomic_reprs=True)['cls_repr']\n",
    "\n",
    "np.save(data_path + 'train/unimol_embeddings.npy', np.array(train_embeddings))\n",
    "np.save(data_path + 'validation/unimol_embeddings.npy', np.array(validation_embeddings))\n",
    "np.save(data_path + 'test/unimol_embeddings.npy', np.array(test_embeddings))"
   ]
  },
  {
   "cell_type": "markdown",
   "id": "81ce248e-1d73-48df-84ae-0d6bb61d798e",
   "metadata": {},
   "source": [
    "## Regression"
   ]
  },
  {
   "cell_type": "code",
   "execution_count": 5,
   "id": "f12362c9-6352-4e4f-a43d-9b6cdd5b1fa1",
   "metadata": {},
   "outputs": [],
   "source": [
    "transform = 'log_standardize_prefix'\n",
    "\n",
    "data_path = f'../../data/{transform}/validation.csv'\n",
    "model_path = f'./model'"
   ]
  },
  {
   "cell_type": "code",
   "execution_count": 6,
   "id": "20e307d9-1ec0-423f-9e0c-8846d88c2abe",
   "metadata": {},
   "outputs": [],
   "source": [
    "data = pd.read_csv(data_path)"
   ]
  },
  {
   "cell_type": "code",
   "execution_count": 8,
   "id": "2d32c050-9032-4133-8384-144689dbba86",
   "metadata": {},
   "outputs": [
    {
     "name": "stderr",
     "output_type": "stream",
     "text": [
      "2025-01-06 16:05:57 | unimol_tools/data/conformer.py | 89 | INFO | Uni-Mol Tools | Start generating conformers...\n",
      "356it [00:06, 56.83it/s]\n",
      "2025-01-06 16:06:03 | unimol_tools/data/conformer.py | 93 | INFO | Uni-Mol Tools | Succeed to generate conformers for 100.00% of molecules.\n",
      "2025-01-06 16:06:03 | unimol_tools/data/conformer.py | 95 | INFO | Uni-Mol Tools | Succeed to generate 3d conformers for 100.00% of molecules.\n",
      "2025-01-06 16:06:03 | unimol_tools/models/unimol.py | 120 | INFO | Uni-Mol Tools | Loading pretrained weights from /scratch/midway3/jshe/.conda/envs/unimol/lib/python3.10/site-packages/unimol_tools/weights/mol_pre_all_h_220816.pt\n",
      "2025-01-06 16:06:04 | unimol_tools/models/nnmodel.py | 206 | INFO | Uni-Mol Tools | start predict NNModel:unimolv1\n",
      "2025-01-06 16:06:04 | unimol_tools/tasks/trainer.py | 300 | INFO | Uni-Mol Tools | load model success!\n",
      "2025-01-06 16:06:15 | unimol_tools/tasks/trainer.py | 300 | INFO | Uni-Mol Tools | load model success!                             \n",
      "2025-01-06 16:06:27 | unimol_tools/tasks/trainer.py | 300 | INFO | Uni-Mol Tools | load model success!                             \n",
      "2025-01-06 16:06:38 | unimol_tools/tasks/trainer.py | 300 | INFO | Uni-Mol Tools | load model success!                             \n",
      "2025-01-06 16:06:51 | unimol_tools/tasks/trainer.py | 300 | INFO | Uni-Mol Tools | load model success!                             \n",
      "2025-01-06 16:07:04 | unimol_tools/predict.py | 92 | INFO | Uni-Mol Tools | final predict metrics score:                           \n",
      "{'mse': 0.9514737096187592, 'mae': 0.5700016038469744, 'r2': 0.031324399963929474}\n"
     ]
    }
   ],
   "source": [
    "unimol = MolPredict(load_model=model_path)\n",
    "\n",
    "predictions = pd.DataFrame(unimol.predict(data=data_path))\n",
    "predictions.columns = data.columns[1:]\n",
    "predictions.to_csv('./predictions/validation.csv', index=False)"
   ]
  },
  {
   "cell_type": "code",
   "execution_count": null,
   "id": "27bf653b-920d-4e79-8c98-fd0172ea8bcf",
   "metadata": {},
   "outputs": [],
   "source": [
    "for i in range(7):\n",
    "    y_true = data.iloc[:, i+1]\n",
    "    y_pred = preds[:, i]\n",
    "\n",
    "    res = ((y_true - y_pred) ** 2).sum()\n",
    "    tot = ((y_true - y_true.mean()) ** 2).sum()\n",
    "    r2 = 1 - (res/tot)\n",
    "\n",
    "    print(data.columns[i+1], f'\\tR^2: {r2}')"
   ]
  },
  {
   "cell_type": "code",
   "execution_count": null,
   "id": "41134997-b1d9-4254-992d-48d0eaf89190",
   "metadata": {},
   "outputs": [],
   "source": [
    "fig, ax0 = plt.subplots(figsize=(4, 4))\n",
    "\n",
    "ax0.hist(data.iloc[:, -1], alpha=0.5, color='b')\n",
    "ax0.hist(preds[:, -1], alpha=0.5, color='r')\n",
    "ax0.set_xlabel(data.columns[-1])"
   ]
  },
  {
   "cell_type": "code",
   "execution_count": null,
   "id": "18718a30-b2b6-49aa-8c7b-d8f750d0d403",
   "metadata": {},
   "outputs": [],
   "source": [
    "fig, axs = plt.subplots(3, 3, figsize=(9, 9))\n",
    "axs = axs.flatten()\n",
    "\n",
    "for i, property_label in enumerate(data.columns[1:]):\n",
    "\n",
    "    ax = axs[i]\n",
    "\n",
    "    ax.scatter(data.iloc[:, i+1], preds[:, i], s=2)\n",
    "    ax.set_xlabel('True')\n",
    "    ax.set_ylabel('Predicted')\n",
    "    ax.set_title(property_label)\n",
    "\n",
    "plt.tight_layout()"
   ]
  },
  {
   "cell_type": "code",
   "execution_count": null,
   "id": "bc7990f5-29dc-4ce7-a6aa-b2e626c518c8",
   "metadata": {},
   "outputs": [],
   "source": [
    "#fig.savefig('predictions.pdf')"
   ]
  },
  {
   "cell_type": "code",
   "execution_count": null,
   "id": "250e7a16-0da4-4562-bc1c-447684ea288b",
   "metadata": {},
   "outputs": [],
   "source": []
  }
 ],
 "metadata": {
  "kernelspec": {
   "display_name": "Python 3 (ipykernel)",
   "language": "python",
   "name": "python3"
  },
  "language_info": {
   "codemirror_mode": {
    "name": "ipython",
    "version": 3
   },
   "file_extension": ".py",
   "mimetype": "text/x-python",
   "name": "python",
   "nbconvert_exporter": "python",
   "pygments_lexer": "ipython3",
   "version": "3.8.20"
  }
 },
 "nbformat": 4,
 "nbformat_minor": 5
}

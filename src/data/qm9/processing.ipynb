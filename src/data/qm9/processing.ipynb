{
 "cells": [
  {
   "cell_type": "code",
   "execution_count": 1,
   "id": "d2d49b51-4b9c-4f59-aa28-154fc64686f7",
   "metadata": {},
   "outputs": [],
   "source": [
    "import pandas as pd\n",
    "import numpy as np\n",
    "from tqdm import tqdm\n",
    "\n",
    "import os"
   ]
  },
  {
   "cell_type": "markdown",
   "id": "74c3ec3f-bcf9-4d63-b478-50c474756d20",
   "metadata": {},
   "source": [
    "## Read XYZs"
   ]
  },
  {
   "cell_type": "code",
   "execution_count": 2,
   "id": "734a2a2d-44d1-4067-805f-e5278d38baea",
   "metadata": {},
   "outputs": [],
   "source": [
    "labels = ['SMILES', 'A', 'B', 'C', 'mu', 'alpha', 'homo', 'lumo', 'gap', 'r2', 'zpve', 'U0', 'U', 'H', 'G', 'Cv']\n",
    "bad_samples = set([\n",
    "    21725, 87037, 59827, 117523, 128113, \n",
    "    129053, 129152, 129158, 130535, 6620, \n",
    "    59818, 21725, 59827, 128113, 129053, \n",
    "    129152, 130535, 6620, 59818\n",
    "])"
   ]
  },
  {
   "cell_type": "code",
   "execution_count": 3,
   "id": "962b4c15-466d-49aa-a67e-1bf965cb671f",
   "metadata": {},
   "outputs": [],
   "source": [
    "csv_fname = 'qm9.csv'"
   ]
  },
  {
   "cell_type": "raw",
   "id": "2b2e1b13-f070-427a-9f66-c083cdbd530f",
   "metadata": {},
   "source": [
    "with open(csv_fname, 'w') as f:\n",
    "    f.write(','.join(labels) + '\\n')\n",
    "\n",
    "for fname in tqdm(os.listdir('xyz')):\n",
    "    fname = './xyz/' + fname\n",
    "\n",
    "    with open(fname) as f:\n",
    "        data = f.readlines()\n",
    "        targets = data[1].split()[1:]\n",
    "        if targets[0] in bad_samples: continue\n",
    "        smiles = data[-2].split()[-1:]\n",
    "\n",
    "    with open(csv_fname, 'a') as f:\n",
    "        f.write(','.join(smiles + targets[1:]) + '\\n')"
   ]
  },
  {
   "cell_type": "markdown",
   "id": "beeebe15-ea94-45f9-b302-3f93d75f0d11",
   "metadata": {},
   "source": [
    "## Transform Data"
   ]
  },
  {
   "cell_type": "code",
   "execution_count": 4,
   "id": "560c01c3-f5d9-4ccb-aadf-c7bfc09e1d26",
   "metadata": {},
   "outputs": [],
   "source": [
    "data = pd.read_csv('qm9.csv')"
   ]
  },
  {
   "cell_type": "code",
   "execution_count": 5,
   "id": "0478bb44-06e2-4b8a-9ba3-31ec38747f78",
   "metadata": {},
   "outputs": [],
   "source": [
    "# Shuffle\n",
    "data = data.sample(frac=1).reset_index(drop=True)"
   ]
  },
  {
   "cell_type": "code",
   "execution_count": 6,
   "id": "1c3f750f-da9f-4d65-a03a-51e7c1e1453c",
   "metadata": {},
   "outputs": [],
   "source": [
    "# Filter Extreme Outliers\n",
    "data = data[data['A'] < 500]\n",
    "data = data[data['A'] > 0]"
   ]
  },
  {
   "cell_type": "code",
   "execution_count": 7,
   "id": "05366805-e58a-4ed4-b7c6-51c19cfd480d",
   "metadata": {},
   "outputs": [],
   "source": [
    "# Separate SMILES and targets\n",
    "smiles = data['SMILES']\n",
    "y = data.iloc[:, 1:]"
   ]
  },
  {
   "cell_type": "code",
   "execution_count": 8,
   "id": "020ee8a5-ab37-43cd-989e-380eb62e3d95",
   "metadata": {},
   "outputs": [],
   "source": [
    "# Log of A, B, C\n",
    "y['A'] = np.log(y['A'])\n",
    "y['B'] = np.log(y['B'])\n",
    "y['C'] = np.log(y['C'])\n",
    "\n",
    "y.rename({'A': 'logA', 'B': 'logB', 'C': 'logC'}, axis=1, inplace=True)"
   ]
  },
  {
   "cell_type": "code",
   "execution_count": 9,
   "id": "c6c51f25-d3d0-4e61-a768-6712ff2fb882",
   "metadata": {},
   "outputs": [],
   "source": [
    "# Normalize\n",
    "mu = y.mean()\n",
    "std = y.std()\n",
    "norm_y = (y - mu)/std"
   ]
  },
  {
   "cell_type": "raw",
   "id": "c2e567f4-ccf6-466e-8589-13f5c1e99c70",
   "metadata": {},
   "source": [
    "# Save\n",
    "smiles.to_csv('smiles.csv', index=False)\n",
    "norm_y.to_csv('norm_y.csv', index=False)"
   ]
  },
  {
   "cell_type": "markdown",
   "id": "de61c23e-26b9-434b-b0a5-07da59792d4b",
   "metadata": {},
   "source": [
    "## Create Splits"
   ]
  },
  {
   "cell_type": "code",
   "execution_count": 11,
   "id": "1719e25d-69ce-4517-9b7a-a471739426f4",
   "metadata": {},
   "outputs": [],
   "source": [
    "# 8/1/1 Split\n",
    "n_train, n_test = smiles.shape[0] * 8 // 10, len(smiles) // 10"
   ]
  },
  {
   "cell_type": "code",
   "execution_count": 12,
   "id": "5c7d5568-27c9-40d9-adde-6fd3b4630644",
   "metadata": {},
   "outputs": [],
   "source": [
    "# Split data\n",
    "train_smiles, validation_smiles, test_smiles= smiles.iloc[:n_train], smiles.iloc[n_train:n_train+n_test], smiles.iloc[n_train+n_test:]\n",
    "train_y, validation_y, test_y = norm_y.iloc[:n_train], norm_y.iloc[n_train:n_train+n_test], norm_y.iloc[n_train+n_test:]"
   ]
  },
  {
   "cell_type": "raw",
   "id": "f01ede80-c500-4743-81d9-a2412915a944",
   "metadata": {},
   "source": [
    "# Save SMILES\n",
    "train_smiles.to_csv('./train/smiles.csv', index=None)\n",
    "validation_smiles.to_csv('./validation/smiles.csv', index=None)\n",
    "test_smiles.to_csv('./test/smiles.csv', index=None)\n",
    "\n",
    "# Save targets\n",
    "train_y.to_csv('./train/y.csv', index=None)\n",
    "validation_y.to_csv('./validation/y.csv', index=None)\n",
    "test_y.to_csv('./test/y.csv', index=None)"
   ]
  }
 ],
 "metadata": {
  "kernelspec": {
   "display_name": "Python 3 (ipykernel)",
   "language": "python",
   "name": "python3"
  },
  "language_info": {
   "codemirror_mode": {
    "name": "ipython",
    "version": 3
   },
   "file_extension": ".py",
   "mimetype": "text/x-python",
   "name": "python",
   "nbconvert_exporter": "python",
   "pygments_lexer": "ipython3",
   "version": "3.9.21"
  }
 },
 "nbformat": 4,
 "nbformat_minor": 5
}

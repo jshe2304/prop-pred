{
 "cells": [
  {
   "cell_type": "code",
   "execution_count": 1,
   "id": "d2d49b51-4b9c-4f59-aa28-154fc64686f7",
   "metadata": {},
   "outputs": [],
   "source": [
    "import pandas as pd\n",
    "import numpy as np\n",
    "from tqdm import tqdm\n",
    "\n",
    "from rdkit import Chem\n",
    "from rdkit.Chem import AllChem\n",
    "\n",
    "import os"
   ]
  },
  {
   "cell_type": "markdown",
   "id": "74c3ec3f-bcf9-4d63-b478-50c474756d20",
   "metadata": {},
   "source": [
    "## Read XYZs"
   ]
  },
  {
   "cell_type": "code",
   "execution_count": 2,
   "id": "734a2a2d-44d1-4067-805f-e5278d38baea",
   "metadata": {},
   "outputs": [],
   "source": [
    "labels = ['SMILES', 'A', 'B', 'C', 'mu', 'alpha', 'homo', 'lumo', 'gap', 'r2', 'zpve', 'U0', 'U', 'H', 'G', 'Cv']\n",
    "bad_samples = set([\n",
    "    21725, 87037, 59827, 117523, 128113, \n",
    "    129053, 129152, 129158, 130535, 6620, \n",
    "    59818, 21725, 59827, 128113, 129053, \n",
    "    129152, 130535, 6620, 59818\n",
    "])"
   ]
  },
  {
   "cell_type": "code",
   "execution_count": 3,
   "id": "962b4c15-466d-49aa-a67e-1bf965cb671f",
   "metadata": {},
   "outputs": [],
   "source": [
    "csv_fname = 'qm9.csv'"
   ]
  },
  {
   "cell_type": "code",
   "execution_count": null,
   "id": "98f8f5f5-1b20-48e2-b00f-8ca07076e47d",
   "metadata": {},
   "outputs": [],
   "source": [
    "with open(csv_fname, 'w') as f:\n",
    "    f.write(','.join(labels) + '\\n')\n",
    "\n",
    "coordinates = []\n",
    "\n",
    "for i, fname in tqdm(enumerate(os.listdir('xyz'))):\n",
    "    fname = './xyz/' + fname\n",
    "\n",
    "    with open(fname) as f: \n",
    "        lines = f.readlines()\n",
    "    \n",
    "    mol_id, *targets = lines[1].split()[1:]\n",
    "    if mol_id in bad_samples: continue\n",
    "\n",
    "    smiles = lines[-2].split()[-1:]\n",
    "\n",
    "    # Generate Coordinates\n",
    "    \n",
    "    mol = Chem.MolFromSmiles(smiles[0])\n",
    "    if mol is None: continue\n",
    "    mol = Chem.AddHs(mol)\n",
    "    embed = AllChem.EmbedMolecule(mol, randomSeed=16)  # Set a random seed for reproducibility\n",
    "    if embed != 0: continue\n",
    "    AllChem.UFFOptimizeMolecule(mol)  # Perform an optimization using UFF force field\n",
    "\n",
    "    coords = np.full((9, 3), np.inf)\n",
    "\n",
    "    j = 0\n",
    "    for atom in mol.GetAtoms():\n",
    "        if atom.GetSymbol() == 'H': continue\n",
    "        pos = mol.GetConformer().GetAtomPosition(atom.GetIdx())  # Get coordinates for each atom\n",
    "        coords[j] = pos.x, pos.y, pos.z\n",
    "        j += 1\n",
    "\n",
    "    coordinates.append(coords)\n",
    "    \n",
    "    with open(csv_fname, 'a') as f:\n",
    "        f.write(','.join(smiles + targets) + '\\n')"
   ]
  },
  {
   "cell_type": "code",
   "execution_count": null,
   "id": "4e28f042-fd99-4d83-bfc8-42dbd90becbd",
   "metadata": {},
   "outputs": [],
   "source": [
    "coordinates = np.stack(coordinates)"
   ]
  },
  {
   "cell_type": "markdown",
   "id": "beeebe15-ea94-45f9-b302-3f93d75f0d11",
   "metadata": {},
   "source": [
    "## Filter Data"
   ]
  },
  {
   "cell_type": "code",
   "execution_count": 2,
   "id": "560c01c3-f5d9-4ccb-aadf-c7bfc09e1d26",
   "metadata": {},
   "outputs": [],
   "source": [
    "data = pd.read_csv('qm9.csv')"
   ]
  },
  {
   "cell_type": "code",
   "execution_count": 3,
   "id": "febdcbdb-495c-41d0-8359-21feb7cab2bd",
   "metadata": {},
   "outputs": [],
   "source": [
    "# Filter Extreme Outliers\n",
    "mask = (data['A'] < 500) & (data['A'] > 0)"
   ]
  },
  {
   "cell_type": "code",
   "execution_count": 4,
   "id": "6aa3c415-fac8-4853-a98f-cebd532fbf21",
   "metadata": {},
   "outputs": [
    {
     "ename": "NameError",
     "evalue": "name 'coordinates' is not defined",
     "output_type": "error",
     "traceback": [
      "\u001b[0;31m---------------------------------------------------------------------------\u001b[0m",
      "\u001b[0;31mNameError\u001b[0m                                 Traceback (most recent call last)",
      "Cell \u001b[0;32mIn[4], line 2\u001b[0m\n\u001b[1;32m      1\u001b[0m data \u001b[38;5;241m=\u001b[39m data[mask]\n\u001b[0;32m----> 2\u001b[0m coordinates \u001b[38;5;241m=\u001b[39m \u001b[43mcoordinates\u001b[49m[mask]\n",
      "\u001b[0;31mNameError\u001b[0m: name 'coordinates' is not defined"
     ]
    }
   ],
   "source": [
    "data = data[mask]\n",
    "coordinates = coordinates[mask]"
   ]
  },
  {
   "cell_type": "markdown",
   "id": "fcac3705-810d-4bba-b23d-1107c1d17ff1",
   "metadata": {},
   "source": [
    "## Transform"
   ]
  },
  {
   "cell_type": "code",
   "execution_count": 5,
   "id": "05366805-e58a-4ed4-b7c6-51c19cfd480d",
   "metadata": {},
   "outputs": [],
   "source": [
    "# Separate SMILES and targets\n",
    "smiles = data['SMILES']\n",
    "y = data.iloc[:, 1:]"
   ]
  },
  {
   "cell_type": "code",
   "execution_count": 6,
   "id": "020ee8a5-ab37-43cd-989e-380eb62e3d95",
   "metadata": {},
   "outputs": [],
   "source": [
    "# Log of A, B, C\n",
    "y['A'] = np.log(y['A'])\n",
    "y['B'] = np.log(y['B'])\n",
    "y['C'] = np.log(y['C'])\n",
    "\n",
    "y.rename({'A': 'logA', 'B': 'logB', 'C': 'logC'}, axis=1, inplace=True)"
   ]
  },
  {
   "cell_type": "code",
   "execution_count": null,
   "id": "c6c51f25-d3d0-4e61-a768-6712ff2fb882",
   "metadata": {},
   "outputs": [],
   "source": [
    "# Normalize\n",
    "mu = y.mean()\n",
    "std = y.std()\n",
    "norm_y = (y - mu)/std"
   ]
  },
  {
   "cell_type": "code",
   "execution_count": null,
   "id": "5ce54652-7a3e-437f-b301-0461dde260c0",
   "metadata": {},
   "outputs": [],
   "source": [
    "# Save mean and standard deviation\n",
    "norm_statistics = pd.concat((mu, std), axis=1)\n",
    "norm_statistics.columns = ['mean', 'std']\n",
    "norm_statistics.to_csv('norm_statistics.csv')"
   ]
  },
  {
   "cell_type": "markdown",
   "id": "b27a08a5-41e8-47da-94a2-746a0aa6efb9",
   "metadata": {},
   "source": [
    "## Shuffle"
   ]
  },
  {
   "cell_type": "code",
   "execution_count": null,
   "id": "64bda345-b137-4fbe-a5fc-a54bb1fa4fc7",
   "metadata": {},
   "outputs": [],
   "source": [
    "indices = np.random.permutation(len(smiles))"
   ]
  },
  {
   "cell_type": "code",
   "execution_count": null,
   "id": "f2833b29-483c-4b2f-a20e-e39cd66e8755",
   "metadata": {},
   "outputs": [],
   "source": [
    "smiles_shuffled = smiles.iloc[indices]\n",
    "norm_y_shuffled = norm_y.iloc[indices]\n",
    "coordinates_shuffled = coordinates[indices]"
   ]
  },
  {
   "cell_type": "markdown",
   "id": "ae1d23e6-0084-4059-b181-e1105cea25b8",
   "metadata": {},
   "source": [
    "## Save"
   ]
  },
  {
   "cell_type": "code",
   "execution_count": null,
   "id": "0f6a8230-9e5a-4233-bc9d-8f5fef9712e2",
   "metadata": {},
   "outputs": [],
   "source": [
    "smiles_shuffled.to_csv('smiles.csv', index=False)\n",
    "norm_y_shuffled.to_csv('norm_y.csv', index=False)\n",
    "np.save('coordinates.npy', coordinates_shuffled)"
   ]
  },
  {
   "cell_type": "code",
   "execution_count": null,
   "id": "909d33f8-87f8-44f5-8394-8f61d7bf8346",
   "metadata": {},
   "outputs": [],
   "source": [
    "d = np.nan_to_num(\n",
    "    np.linalg.norm(\n",
    "        np.expand_dims(coordinates, axis=1) - np.expand_dims(coordinates, axis=2), \n",
    "        axis=-1\n",
    "    ), \n",
    "    nan=np.inf, posinf=np.inf, neginf=np.inf\n",
    ")"
   ]
  },
  {
   "cell_type": "code",
   "execution_count": null,
   "id": "2e338fd9-be81-4e6a-9fd7-2816a06dff0a",
   "metadata": {},
   "outputs": [],
   "source": [
    "np.save('distances.npy', d)"
   ]
  },
  {
   "cell_type": "code",
   "execution_count": null,
   "id": "bbdbe757-7a52-4a7d-8cba-8abf0c34c40b",
   "metadata": {},
   "outputs": [],
   "source": []
  }
 ],
 "metadata": {
  "kernelspec": {
   "display_name": "Python 3 (ipykernel)",
   "language": "python",
   "name": "python3"
  },
  "language_info": {
   "codemirror_mode": {
    "name": "ipython",
    "version": 3
   },
   "file_extension": ".py",
   "mimetype": "text/x-python",
   "name": "python",
   "nbconvert_exporter": "python",
   "pygments_lexer": "ipython3",
   "version": "3.9.21"
  }
 },
 "nbformat": 4,
 "nbformat_minor": 5
}

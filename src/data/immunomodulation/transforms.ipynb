{
 "cells": [
  {
   "cell_type": "code",
   "execution_count": 1,
   "id": "1bde476b-744c-4757-94c7-80213c8f95b7",
   "metadata": {},
   "outputs": [],
   "source": [
    "import pandas as pd\n",
    "import numpy as np\n",
    "import os\n",
    "import matplotlib.pyplot as plt"
   ]
  },
  {
   "cell_type": "code",
   "execution_count": 2,
   "id": "a5500347-51b9-4c00-8040-f6c82cdce35a",
   "metadata": {},
   "outputs": [],
   "source": [
    "# Desired Column Labels\n",
    "property_labels = sorted(['LPS Abs', 'LPS Lum', 'MPLA Abs', 'MPLA Lum', 'CpG Abs', 'cGAMP Abs', 'cGAMP Lum'])\n",
    "property_std_labels = sorted([prop + ' Std' for prop in property_labels])\n",
    "#columns = sorted(property_labels + property_std_labels)"
   ]
  },
  {
   "cell_type": "markdown",
   "id": "bb4d37d0-f72c-4cc8-b9dc-e5a0caa92228",
   "metadata": {},
   "source": [
    "## Filter"
   ]
  },
  {
   "cell_type": "code",
   "execution_count": 3,
   "id": "9f3aa21e-5eab-4c1a-925b-6dcf3d6cba4a",
   "metadata": {},
   "outputs": [],
   "source": [
    "raw = pd.read_csv('./raw.csv')"
   ]
  },
  {
   "cell_type": "code",
   "execution_count": 4,
   "id": "41470320-badb-475c-a8eb-e473221a4359",
   "metadata": {},
   "outputs": [],
   "source": [
    "# Shuffle\n",
    "data = raw.sample(frac=1).reset_index(drop=True)"
   ]
  },
  {
   "cell_type": "code",
   "execution_count": 5,
   "id": "c7474a4b-b0a6-454a-9c39-ee132036dd0a",
   "metadata": {},
   "outputs": [],
   "source": [
    "# Get Desired Columns\n",
    "smiles = data['SMILES']\n",
    "y = data[property_labels]\n",
    "std = data[property_std_labels]"
   ]
  },
  {
   "cell_type": "code",
   "execution_count": 6,
   "id": "29d41abd-7363-49bc-b6f5-4377d4fa8146",
   "metadata": {},
   "outputs": [],
   "source": [
    "# Rename Columns\n",
    "property_labels = ['property_' + label.replace(' ', '_') for label in property_labels]\n",
    "property_std_labels = ['property_' + label.replace(' ', '_') for label in property_std_labels]\n",
    "y.columns = property_labels\n",
    "std.columns = property_labels"
   ]
  },
  {
   "cell_type": "markdown",
   "id": "59b8494a-c5e9-44c4-9abd-20087cab2784",
   "metadata": {},
   "source": [
    "## Log and Normalize"
   ]
  },
  {
   "cell_type": "code",
   "execution_count": 7,
   "id": "22152179-b6aa-4d71-b988-cccc0075b72e",
   "metadata": {},
   "outputs": [],
   "source": [
    "log_std = std/y\n",
    "log_y = np.log(y)"
   ]
  },
  {
   "cell_type": "code",
   "execution_count": 8,
   "id": "25bc8aaf-5379-47da-80a0-c9d697495eb3",
   "metadata": {},
   "outputs": [],
   "source": [
    "mu, sig = log_y.mean(), log_y.std()\n",
    "\n",
    "norm_log_y = (log_y - mu)/sig\n",
    "norm_log_std = log_std/sig"
   ]
  },
  {
   "cell_type": "code",
   "execution_count": 9,
   "id": "ffdaae8d-a827-48a1-aaea-38b836aa92ee",
   "metadata": {},
   "outputs": [
    {
     "data": {
      "image/png": "[encoded data removed]",
      "text/plain": [
       "<Figure size 1400x200 with 7 Axes>"
      ]
     },
     "metadata": {},
     "output_type": "display_data"
    }
   ],
   "source": [
    "fig, axs = plt.subplots(1, 7, figsize=(14, 2))\n",
    "\n",
    "for i, ax in enumerate(axs):\n",
    "    ax.scatter(y.iloc[:, i], norm_log_y.iloc[:, i], s=4)"
   ]
  },
  {
   "cell_type": "markdown",
   "id": "5a39906d-b53c-41a6-afff-45830a9f9c57",
   "metadata": {},
   "source": [
    "## Split and Save"
   ]
  },
  {
   "cell_type": "code",
   "execution_count": 17,
   "id": "eb6cd771-280f-4cf5-a251-fb2beb713e0c",
   "metadata": {},
   "outputs": [],
   "source": [
    "directory_path = './log_normalized/regression/'"
   ]
  },
  {
   "cell_type": "code",
   "execution_count": 14,
   "id": "68107dbf-2fc0-47e9-b089-9cbad64e0cc2",
   "metadata": {},
   "outputs": [],
   "source": [
    "# Split sizes\n",
    "n_train, n_test = smiles.shape[0] * 8 // 10, len(smiles) // 10"
   ]
  },
  {
   "cell_type": "code",
   "execution_count": 15,
   "id": "aa8de490-31a5-4c59-91ef-8388c73ffe5e",
   "metadata": {},
   "outputs": [],
   "source": [
    "# Split data\n",
    "train_smiles, validation_smiles, test_smiles= smiles.iloc[:n_train], smiles.iloc[n_train:n_train+n_test], smiles.iloc[n_train+n_test:]\n",
    "train_y, validation_y, test_y = norm_log_y.iloc[:n_train], norm_log_y.iloc[n_train:n_train+n_test], norm_log_y.iloc[n_train+n_test:]\n",
    "train_std, validation_std, test_std = norm_log_std.iloc[:n_train], norm_log_std.iloc[n_train:n_train+n_test], norm_log_std.iloc[n_train+n_test:]"
   ]
  },
  {
   "cell_type": "code",
   "execution_count": null,
   "id": "b72a99ac-d297-4b41-9646-04269551241c",
   "metadata": {},
   "outputs": [],
   "source": [
    "# Save datasets\n",
    "pd.concat((smiles, norm_log_y), axis=1).to_csv(directory_path + 'all/smiles_y.csv', index=None)\n",
    "pd.concat((smiles, norm_log_std), axis=1).to_csv(directory_path + 'all/smiles_std.csv', index=None)\n",
    "\n",
    "# Save targets\n",
    "smiles.to_csv(directory_path + 'all/smiles.csv', index=None)\n",
    "norm_log_y.to_csv(directory_path + 'all/y.csv', index=None)\n",
    "norm_log_std.to_csv(directory_path + 'all/std.csv', index=None)\n",
    "\n",
    "# Save targets (split)\n",
    "pd.concat((train_smiles, train_y), axis=1).to_csv(directory_path + 'train.csv', index=None)\n",
    "pd.concat((validation_smiles, validation_y), axis=1).to_csv(directory_path + 'validation.csv', index=None)\n",
    "pd.concat((test_smiles, test_y), axis=1).to_csv(directory_path + 'test.csv', index=None)\n",
    "\n",
    "# Save SMILES\n",
    "train_smiles.to_csv(directory_path + 'train/smiles.csv', index=None)\n",
    "test_smiles.to_csv(directory_path + 'test/smiles.csv', index=None)\n",
    "validation_smiles.to_csv(directory_path + 'validation/smiles.csv', index=None)\n",
    "\n",
    "# Save targets\n",
    "train_y.to_csv(directory_path + 'train/y.csv', index=None)\n",
    "test_y.to_csv(directory_path + 'test/y.csv', index=None)\n",
    "validation_y.to_csv(directory_path + 'validation/y.csv', index=None)\n",
    "\n",
    "# Save standard erros\n",
    "train_std.to_csv(directory_path + 'train/std.csv', index=None)\n",
    "test_std.to_csv(directory_path + 'test/std.csv', index=None)\n",
    "validation_std.to_csv(directory_path + 'validation/std.csv', index=None)"
   ]
  },
  {
   "cell_type": "markdown",
   "id": "49d90ee2-0a81-4712-9ade-7739b9828d56",
   "metadata": {},
   "source": [
    "## Make Classification Dataset From Regression"
   ]
  },
  {
   "cell_type": "code",
   "execution_count": 39,
   "id": "c487dfe4-3593-444e-8a07-ae76e8adba58",
   "metadata": {},
   "outputs": [],
   "source": [
    "smiles = pd.read_csv('./log_normalized/regression/all/smiles.csv')\n",
    "y = pd.read_csv('./log_normalized/regression/all/y.csv')\n",
    "std = pd.read_csv('./log_normalized/regression/all/std.csv')"
   ]
  },
  {
   "cell_type": "code",
   "execution_count": 40,
   "id": "5b1da424-d4d8-429c-8130-8b0f47da91d0",
   "metadata": {},
   "outputs": [
    {
     "name": "stdout",
     "output_type": "stream",
     "text": [
      "property_CpG_Abs      0.085112\n",
      "property_LPS_Abs      0.066854\n",
      "property_LPS_Lum      0.079213\n",
      "property_MPLA_Abs     0.066573\n",
      "property_MPLA_Lum     0.072472\n",
      "property_cGAMP_Abs    0.092135\n",
      "property_cGAMP_Lum    0.093258\n",
      "dtype: float64\n"
     ]
    }
   ],
   "source": [
    "classes_y = (y < -1).astype(int)\n",
    "print(classes_y.sum()/classes_y.shape[0])"
   ]
  },
  {
   "cell_type": "markdown",
   "id": "5fc5aeb1-4129-47cf-92a4-c29466899499",
   "metadata": {},
   "source": [
    "#### Split"
   ]
  },
  {
   "cell_type": "code",
   "execution_count": 41,
   "id": "1a00aeba-15df-4e83-896a-cedfdff09548",
   "metadata": {},
   "outputs": [],
   "source": [
    "directory_path = './log_normalized/classification/suppress_1std/'"
   ]
  },
  {
   "cell_type": "code",
   "execution_count": 42,
   "id": "ce5cdd57-656e-472d-a34f-6091b232a135",
   "metadata": {},
   "outputs": [],
   "source": [
    "# Split sizes\n",
    "n_train, n_test = smiles.shape[0] * 8 // 10, len(smiles) // 10"
   ]
  },
  {
   "cell_type": "code",
   "execution_count": 43,
   "id": "6c89348a-09b1-4d10-8eb6-b9df579250c2",
   "metadata": {},
   "outputs": [],
   "source": [
    "# Split data\n",
    "train_smiles, validation_smiles, test_smiles= smiles.iloc[:n_train], smiles.iloc[n_train:n_train+n_test], smiles.iloc[n_train+n_test:]\n",
    "train_y, validation_y, test_y = classes_y.iloc[:n_train], classes_y.iloc[n_train:n_train+n_test], classes_y.iloc[n_train+n_test:]"
   ]
  },
  {
   "cell_type": "code",
   "execution_count": 44,
   "id": "5f042090-5416-4271-9cb8-406674d64eae",
   "metadata": {},
   "outputs": [],
   "source": [
    "# Save datasets\n",
    "pd.concat((smiles, classes_y), axis=1).to_csv(directory_path + 'all/smiles_y.csv', index=None)\n",
    "\n",
    "# Save targets\n",
    "smiles.to_csv(directory_path + 'all/smiles.csv', index=None)\n",
    "classes_y.to_csv(directory_path + 'all/y.csv', index=None)\n",
    "\n",
    "# Save targets (split)\n",
    "pd.concat((train_smiles, train_y), axis=1).to_csv(directory_path + 'train.csv', index=None)\n",
    "pd.concat((validation_smiles, validation_y), axis=1).to_csv(directory_path + 'validation.csv', index=None)\n",
    "pd.concat((test_smiles, test_y), axis=1).to_csv(directory_path + 'test.csv', index=None)\n",
    "\n",
    "# Save SMILES\n",
    "train_smiles.to_csv(directory_path + 'train/smiles.csv', index=None)\n",
    "test_smiles.to_csv(directory_path + 'test/smiles.csv', index=None)\n",
    "validation_smiles.to_csv(directory_path + 'validation/smiles.csv', index=None)\n",
    "\n",
    "# Save targets\n",
    "train_y.to_csv(directory_path + 'train/y.csv', index=None)\n",
    "test_y.to_csv(directory_path + 'test/y.csv', index=None)\n",
    "validation_y.to_csv(directory_path + 'validation/y.csv', index=None)"
   ]
  },
  {
   "cell_type": "code",
   "execution_count": null,
   "id": "0763da4a-598a-4407-b60e-acfed09ed584",
   "metadata": {},
   "outputs": [],
   "source": []
  }
 ],
 "metadata": {
  "kernelspec": {
   "display_name": "Python 3 (ipykernel)",
   "language": "python",
   "name": "python3"
  },
  "language_info": {
   "codemirror_mode": {
    "name": "ipython",
    "version": 3
   },
   "file_extension": ".py",
   "mimetype": "text/x-python",
   "name": "python",
   "nbconvert_exporter": "python",
   "pygments_lexer": "ipython3",
   "version": "3.8.20"
  }
 },
 "nbformat": 4,
 "nbformat_minor": 5
}

{
 "cells": [
  {
   "cell_type": "code",
   "execution_count": 32,
   "id": "a9e86695-0d1b-4363-9f6b-a8874ae6a53c",
   "metadata": {},
   "outputs": [],
   "source": [
    "import numpy as np\n",
    "import pandas as pd\n",
    "\n",
    "import rdkit\n",
    "from rdkit import Chem\n",
    "from rdkit.Chem import AllChem"
   ]
  },
  {
   "cell_type": "markdown",
   "id": "6b029edc-665e-41de-acf6-ecdbeddc6f95",
   "metadata": {},
   "source": [
    "## Raw data"
   ]
  },
  {
   "cell_type": "code",
   "execution_count": 33,
   "id": "deb0b314-5365-4df9-bedd-d0704c2ecbe4",
   "metadata": {},
   "outputs": [],
   "source": [
    "data = pd.read_csv('immuno_big.csv')"
   ]
  },
  {
   "cell_type": "markdown",
   "id": "9526032c-216c-4f41-b0fa-0d8f4549de8d",
   "metadata": {},
   "source": [
    "## Shuffle"
   ]
  },
  {
   "cell_type": "code",
   "execution_count": 34,
   "id": "4579d56f-99e3-4e49-91e6-2aec9a90182a",
   "metadata": {},
   "outputs": [],
   "source": [
    "data = data.sample(frac=1).reset_index(drop=True)"
   ]
  },
  {
   "cell_type": "markdown",
   "id": "ab9ef554-5dce-4bbf-8354-23d00d01a374",
   "metadata": {},
   "source": [
    "## Separate"
   ]
  },
  {
   "cell_type": "code",
   "execution_count": 35,
   "id": "a2d7ff4e-59e6-4b70-b547-7112dc1d1bf7",
   "metadata": {},
   "outputs": [],
   "source": [
    "data['Z'].to_csv('y.csv', index=None)\n",
    "data['SMILES'].to_csv('smiles.csv', index=None)"
   ]
  },
  {
   "cell_type": "markdown",
   "id": "bb0397cc-580f-47f7-9580-ebc6fff5d622",
   "metadata": {},
   "source": [
    "## Generate Coordinates"
   ]
  },
  {
   "cell_type": "code",
   "execution_count": 36,
   "id": "4f58184e-0608-46bc-97b7-1178e85444d5",
   "metadata": {},
   "outputs": [],
   "source": [
    "smiles = pd.read_csv('smiles.csv')"
   ]
  },
  {
   "cell_type": "code",
   "execution_count": 55,
   "id": "7dd26dd9-d233-4c97-beb1-2166316414cd",
   "metadata": {},
   "outputs": [],
   "source": [
    "max_len = max(Chem.MolFromSmiles(smile).GetNumHeavyAtoms() for smile in smiles['SMILES'])"
   ]
  },
  {
   "cell_type": "code",
   "execution_count": 57,
   "id": "03b40b46-b917-4134-8634-c1969ed91d37",
   "metadata": {},
   "outputs": [],
   "source": [
    "lengths = [Chem.MolFromSmiles(smile).GetNumHeavyAtoms() for smile in smiles['SMILES']]"
   ]
  },
  {
   "cell_type": "code",
   "execution_count": 45,
   "id": "744aeafd-b5b2-4fd4-96c3-ffb3e3a19649",
   "metadata": {},
   "outputs": [],
   "source": [
    "coordinates = []\n",
    "\n",
    "max_len = max(Chem.MolFromSmiles(smile).GetNumHeavyAtoms() for smile in smiles['SMILES'])\n",
    "\n",
    "for smile in smiles['SMILES']:\n",
    "\n",
    "    # Generate Coordinates\n",
    "    \n",
    "    mol = Chem.MolFromSmiles(smile)\n",
    "    if mol is None: continue\n",
    "    mol = Chem.AddHs(mol)\n",
    "    embed = AllChem.EmbedMolecule(mol, randomSeed=16)  # Set a random seed for reproducibility\n",
    "    if embed != 0: continue\n",
    "    AllChem.UFFOptimizeMolecule(mol)  # Perform an optimization using UFF force field\n",
    "\n",
    "    coords = np.full((mol.GetNumHeavyAtoms(), 3), np.inf)\n",
    "\n",
    "    j = 0\n",
    "    for atom in mol.GetAtoms():\n",
    "        if atom.GetSymbol() == 'H': continue\n",
    "        pos = mol.GetConformer().GetAtomPosition(atom.GetIdx())  # Get coordinates for each atom\n",
    "        coords[j] = pos.x, pos.y, pos.z\n",
    "        j += 1\n",
    "\n",
    "    coordinates.append(coords)"
   ]
  },
  {
   "cell_type": "code",
   "execution_count": 52,
   "id": "b2f98e7c-6dd3-4722-af79-a0f2dc3b4c98",
   "metadata": {},
   "outputs": [
    {
     "data": {
      "text/plain": [
       "(26, 3)"
      ]
     },
     "execution_count": 52,
     "metadata": {},
     "output_type": "execute_result"
    }
   ],
   "source": [
    "max_len = max(coords.shape[0] for coords in coordinates)\n",
    "\n",
    "padded_coordinates = [\n",
    "    np.pad(coords, ((0, max_len - coords.shape[0]), (0, 0)), mode='constant', constant_values=np.inf)\n",
    "    for coords in coordinates\n",
    "]"
   ]
  },
  {
   "cell_type": "code",
   "execution_count": null,
   "id": "59522450-e945-456a-a205-4b919275c9d4",
   "metadata": {},
   "outputs": [],
   "source": []
  }
 ],
 "metadata": {
  "kernelspec": {
   "display_name": "Python 3 (ipykernel)",
   "language": "python",
   "name": "python3"
  },
  "language_info": {
   "codemirror_mode": {
    "name": "ipython",
    "version": 3
   },
   "file_extension": ".py",
   "mimetype": "text/x-python",
   "name": "python",
   "nbconvert_exporter": "python",
   "pygments_lexer": "ipython3",
   "version": "3.9.21"
  }
 },
 "nbformat": 4,
 "nbformat_minor": 5
}

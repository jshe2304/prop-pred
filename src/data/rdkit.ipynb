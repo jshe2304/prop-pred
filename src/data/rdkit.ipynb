{
 "cells": [
  {
   "cell_type": "code",
   "execution_count": 1,
   "id": "76fdd866-56ad-4090-a8bd-04e8a47d9041",
   "metadata": {},
   "outputs": [],
   "source": [
    "import os\n",
    "import sys\n",
    "\n",
    "import pandas as pd\n",
    "import numpy as np\n",
    "import os\n",
    "import matplotlib.pyplot as plt\n",
    "\n",
    "from rdkit.Chem import MolFromSmiles\n",
    "from rdkit.Chem.Crippen import MolLogP as LogP\n",
    "from rdkit.Chem.Crippen import MolMR as MR\n",
    "from rdkit.Chem.QED import qed as QED\n",
    "\n",
    "sys.path.append(os.path.join(os.environ['CONDA_PREFIX'],'share','RDKit','Contrib'))\n",
    "from SA_Score.sascorer import calculateScore as SAS\n",
    "#from rdkit.Chem import RDConfig \n",
    "#sys.path.append(os.path.join(RDConfig.RDContribDir, 'SA_Score'))\n",
    "#from sascorer import calculateScore as SAS\n",
    "\n",
    "import warnings"
   ]
  },
  {
   "cell_type": "markdown",
   "id": "8f48c4f6-9726-4c3e-b2c1-aa192dd25719",
   "metadata": {},
   "source": [
    "## Data"
   ]
  },
  {
   "cell_type": "code",
   "execution_count": 2,
   "id": "538fb3fa-d8ab-4ffd-8d85-0c4a788ecbad",
   "metadata": {},
   "outputs": [],
   "source": [
    "smiles = pd.read_csv('./log_normalized/regression/all/smiles.csv')"
   ]
  },
  {
   "cell_type": "markdown",
   "id": "610debe5-6291-4e30-abd8-c01b6ebef350",
   "metadata": {},
   "source": [
    "## Compute Properties"
   ]
  },
  {
   "cell_type": "code",
   "execution_count": null,
   "id": "eaaa9373-cdb2-490b-93bf-bc991c746233",
   "metadata": {},
   "outputs": [],
   "source": [
    "warnings.filterwarnings('ignore')\n",
    "\n",
    "properties = []\n",
    "\n",
    "for smile in smiles['SMILES']:\n",
    "\n",
    "    mol = MolFromSmiles(smile)\n",
    "\n",
    "    logp = LogP(mol)\n",
    "    mr = MR(mol)\n",
    "    qed = QED(mol)\n",
    "    sas = SAS(mol)\n",
    "    \n",
    "    properties.append([logp, mr, qed, sas])\n",
    "\n",
    "properties = pd.DataFrame(properties, columns=['logp', 'mr', 'qed', 'sas'])"
   ]
  },
  {
   "cell_type": "code",
   "execution_count": 13,
   "id": "e7b04140-6d35-4616-866d-5a1dc9e0aec2",
   "metadata": {},
   "outputs": [
    {
     "data": {
      "image/png": "[encoded data removed]",
      "text/plain": [
       "<Figure size 1000x200 with 4 Axes>"
      ]
     },
     "metadata": {},
     "output_type": "display_data"
    }
   ],
   "source": [
    "fig, axs = plt.subplots(1, 4, figsize=(10, 2))\n",
    "\n",
    "for ax, column in zip(axs, properties.columns):\n",
    "    \n",
    "    ax.hist(properties[column], bins=32)\n",
    "    ax.set_title(column)\n",
    "    ax.set_yticks([])"
   ]
  },
  {
   "cell_type": "markdown",
   "id": "995e01f4-39a6-437d-8f18-b17ba73489ba",
   "metadata": {},
   "source": [
    "## Transforms"
   ]
  },
  {
   "cell_type": "code",
   "execution_count": 14,
   "id": "8fc0d6d1-d83a-44f5-bf47-9fb3c83b4d58",
   "metadata": {},
   "outputs": [],
   "source": [
    "# Log of skewed data\n",
    "properties['mr'] = np.log(properties['mr'])\n",
    "properties.rename(columns={'mr': 'logmr'}, inplace=True)\n",
    "properties['sas'] = np.log(properties['sas'])\n",
    "properties.rename(columns={'sas': 'logsas'}, inplace=True)"
   ]
  },
  {
   "cell_type": "code",
   "execution_count": 15,
   "id": "11dba18a-5ba8-4d5b-9bf1-2e097f4d1346",
   "metadata": {},
   "outputs": [],
   "source": [
    "mu, std = properties.mean(), properties.std()\n",
    "\n",
    "properties -= mu\n",
    "properties /= std"
   ]
  },
  {
   "cell_type": "code",
   "execution_count": 23,
   "id": "1eda80e2-fb79-49bb-9a5b-f3fe59dc360e",
   "metadata": {},
   "outputs": [
    {
     "data": {
      "image/png": "[encoded data removed]",
      "text/plain": [
       "<Figure size 1000x200 with 4 Axes>"
      ]
     },
     "metadata": {},
     "output_type": "display_data"
    }
   ],
   "source": [
    "fig, axs = plt.subplots(1, 4, figsize=(10, 2))\n",
    "\n",
    "for ax, column in zip(axs, properties.columns):\n",
    "    \n",
    "    ax.hist(properties[column], bins=32)\n",
    "    ax.set_title(column)\n",
    "    ax.set_yticks([])"
   ]
  },
  {
   "cell_type": "markdown",
   "id": "154f23b3-e1c1-4423-8411-22d827539d05",
   "metadata": {},
   "source": [
    "## Split and Save"
   ]
  },
  {
   "cell_type": "code",
   "execution_count": 17,
   "id": "1e8b7564-d421-4718-8953-83f80d0fa094",
   "metadata": {},
   "outputs": [],
   "source": [
    "# Split sizes\n",
    "n_train, n_test = properties.shape[0] * 8 // 10, len(properties) // 10"
   ]
  },
  {
   "cell_type": "code",
   "execution_count": 18,
   "id": "cd06ffcc-0a08-437a-9add-b564de5c7fcd",
   "metadata": {},
   "outputs": [],
   "source": [
    "# Split data\n",
    "train, validation, test = properties.iloc[:n_train], properties.iloc[n_train:n_train+n_test], properties.iloc[n_train+n_test:]"
   ]
  },
  {
   "cell_type": "code",
   "execution_count": 19,
   "id": "7c9fdd39-dc98-4441-ac99-b8b917218562",
   "metadata": {},
   "outputs": [],
   "source": [
    "train.to_csv('./log_normalized/regression/train/y_rdkit.csv', index=None)\n",
    "validation.to_csv('./log_normalized/regression/validation/y_rdkit.csv', index=None)\n",
    "test.to_csv('./log_normalized/regression/test/y_rdkit.csv', index=None)"
   ]
  },
  {
   "cell_type": "code",
   "execution_count": null,
   "id": "0dbcdc93-d012-4560-bf12-e7d74beaea3d",
   "metadata": {},
   "outputs": [],
   "source": []
  }
 ],
 "metadata": {
  "kernelspec": {
   "display_name": "Python 3 (ipykernel)",
   "language": "python",
   "name": "python3"
  },
  "language_info": {
   "codemirror_mode": {
    "name": "ipython",
    "version": 3
   },
   "file_extension": ".py",
   "mimetype": "text/x-python",
   "name": "python",
   "nbconvert_exporter": "python",
   "pygments_lexer": "ipython3",
   "version": "3.9.21"
  }
 },
 "nbformat": 4,
 "nbformat_minor": 5
}

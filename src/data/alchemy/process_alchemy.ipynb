{
 "cells": [
  {
   "cell_type": "code",
   "execution_count": 1,
   "id": "8a05a1c3-076a-4ea4-b3e0-3d15b91b151a",
   "metadata": {},
   "outputs": [],
   "source": [
    "import os\n",
    "import numpy as np\n",
    "import pandas as pd\n",
    "\n",
    "import rdkit\n",
    "import rdkit.Chem as Chem"
   ]
  },
  {
   "cell_type": "code",
   "execution_count": 5,
   "id": "b0f8aeb6-ce24-4eb0-9bf4-7409c1603f0a",
   "metadata": {},
   "outputs": [],
   "source": [
    "sdf_file = 'alchemy/atom_9/1002198.sdf'"
   ]
  },
  {
   "cell_type": "code",
   "execution_count": 14,
   "id": "eac65122-83ad-49d5-a901-dc30b08c2ca8",
   "metadata": {},
   "outputs": [],
   "source": [
    "mol = Chem.SDMolSupplier(sdf_file)[0]\n",
    "\n",
    "coords = np.full((9, 3), np.inf)\n",
    "\n",
    "j = 0\n",
    "for atom in mol.GetAtoms():\n",
    "    if atom.GetSymbol() == 'H': continue\n",
    "    pos = mol.GetConformer().GetAtomPosition(atom.GetIdx())  # Get coordinates for each atom\n",
    "    coords[j] = pos.x, pos.y, pos.z\n",
    "    j += 1"
   ]
  },
  {
   "cell_type": "code",
   "execution_count": 15,
   "id": "8d0eca4e-cb5f-4902-82c4-7c5b2ea45cda",
   "metadata": {},
   "outputs": [
    {
     "data": {
      "text/plain": [
       "array([[ 12.784 ,  23.8945, -35.3277],\n",
       "       [ 12.6507,  24.1533, -33.8526],\n",
       "       [ 12.2812,  23.2422, -32.9313],\n",
       "       [ 11.8958,  21.8118, -33.1986],\n",
       "       [ 12.2925,  23.5877, -31.4738],\n",
       "       [ 12.1406,  22.7364, -30.6085],\n",
       "       [ 12.5211,  24.9041, -31.1515],\n",
       "       [ 12.3514,  25.9655, -32.1283],\n",
       "       [ 13.033 ,  25.5557, -33.4285]])"
      ]
     },
     "execution_count": 15,
     "metadata": {},
     "output_type": "execute_result"
    }
   ],
   "source": [
    "coords"
   ]
  },
  {
   "cell_type": "code",
   "execution_count": 14,
   "id": "523fb7de-a5f7-49ec-84e4-ec32f00b3ca8",
   "metadata": {},
   "outputs": [
    {
     "name": "stdout",
     "output_type": "stream",
     "text": [
      "CC1=C(C)C(=O)NCC1\n"
     ]
    }
   ],
   "source": [
    "with open(csv_fname, 'w') as f:\n",
    "    f.write(','.join(labels) + '\\n')\n",
    "\n",
    "coordinates = []\n",
    "\n",
    "for i, fname in tqdm(enumerate(os.listdir('xyz'))):\n",
    "    fname = './xyz/' + fname\n",
    "\n",
    "    with open(fname) as f: \n",
    "        lines = f.readlines()\n",
    "    \n",
    "    mol_id, *targets = lines[1].split()[1:]\n",
    "    if mol_id in bad_samples: continue\n",
    "\n",
    "    smiles = lines[-2].split()[-1:]\n",
    "\n",
    "    # Generate Coordinates\n",
    "    \n",
    "    mol = Chem.MolFromSmiles(smiles[0])\n",
    "    if mol is None: continue\n",
    "    mol = Chem.AddHs(mol)\n",
    "    embed = AllChem.EmbedMolecule(mol, randomSeed=16)  # Set a random seed for reproducibility\n",
    "    if embed != 0: continue\n",
    "    AllChem.UFFOptimizeMolecule(mol)  # Perform an optimization using UFF force field\n",
    "\n",
    "    coords = np.full((9, 3), np.inf)\n",
    "\n",
    "    j = 0\n",
    "    for atom in mol.GetAtoms():\n",
    "        if atom.GetSymbol() == 'H': continue\n",
    "        pos = mol.GetConformer().GetAtomPosition(atom.GetIdx())  # Get coordinates for each atom\n",
    "        coords[j] = pos.x, pos.y, pos.z\n",
    "        j += 1\n",
    "\n",
    "    coordinates.append(coords)\n",
    "    \n",
    "    with open(csv_fname, 'a') as f:\n",
    "        f.write(','.join(smiles + targets) + '\\n')"
   ]
  },
  {
   "cell_type": "code",
   "execution_count": null,
   "id": "8806721c-9e64-4066-8fb6-a59ded619ce8",
   "metadata": {},
   "outputs": [],
   "source": []
  }
 ],
 "metadata": {
  "kernelspec": {
   "display_name": "Python 3 (ipykernel)",
   "language": "python",
   "name": "python3"
  },
  "language_info": {
   "codemirror_mode": {
    "name": "ipython",
    "version": 3
   },
   "file_extension": ".py",
   "mimetype": "text/x-python",
   "name": "python",
   "nbconvert_exporter": "python",
   "pygments_lexer": "ipython3",
   "version": "3.9.21"
  }
 },
 "nbformat": 4,
 "nbformat_minor": 5
}

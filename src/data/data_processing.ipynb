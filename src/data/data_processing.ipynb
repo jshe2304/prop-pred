{
 "cells": [
  {
   "cell_type": "code",
   "execution_count": 93,
   "id": "e41eed7d-531f-404c-86c9-319165e051e2",
   "metadata": {},
   "outputs": [],
   "source": [
    "import pandas as pd\n",
    "import numpy as np\n",
    "import matplotlib.pyplot as plt\n",
    "import os"
   ]
  },
  {
   "cell_type": "code",
   "execution_count": 94,
   "id": "ed1b05e1-c7d6-4eef-89bf-0ede724f9095",
   "metadata": {},
   "outputs": [],
   "source": [
    "data = pd.read_csv('lipophilicity.csv')"
   ]
  },
  {
   "cell_type": "code",
   "execution_count": 105,
   "id": "27b437a1-e66c-4fab-87cb-f613edf4947a",
   "metadata": {},
   "outputs": [],
   "source": [
    "mu = data.logd.mean()\n",
    "std = data.logd.std()\n",
    "\n",
    "data.loc[:, 'logd'] = (data.logd - mu)/std"
   ]
  },
  {
   "cell_type": "code",
   "execution_count": 116,
   "id": "160cbb8b-4169-4ac5-b525-f472d0aabf01",
   "metadata": {},
   "outputs": [],
   "source": [
    "smiles = data.SMILES\n",
    "logd = data.logd"
   ]
  },
  {
   "cell_type": "code",
   "execution_count": 118,
   "id": "8e4b8cea-e478-442b-b428-11ae4deccd28",
   "metadata": {},
   "outputs": [],
   "source": [
    "n_train, n_test = smiles.shape[0] * 8 // 10, len(smiles) // 10"
   ]
  },
  {
   "cell_type": "code",
   "execution_count": 120,
   "id": "d4fbe570-0a58-487d-9c58-0f6e96b99982",
   "metadata": {},
   "outputs": [],
   "source": [
    "# Split data\n",
    "train_smiles, validation_smiles, test_smiles= smiles.iloc[:n_train], smiles.iloc[n_train:n_train+n_test], smiles.iloc[n_train+n_test:]\n",
    "train_y, validation_y, test_y = logd.iloc[:n_train], logd.iloc[n_train:n_train+n_test], logd.iloc[n_train+n_test:]"
   ]
  },
  {
   "cell_type": "code",
   "execution_count": 121,
   "id": "a90af184-e51c-4325-8ccb-27186eed0511",
   "metadata": {},
   "outputs": [],
   "source": [
    "directory_path = './regress_lipophilicity/'\n",
    "\n",
    "# Save datasets\n",
    "pd.concat((smiles, logd), axis=1).to_csv(directory_path + 'all/smiles_y.csv', index=None)\n",
    "\n",
    "# Save targets\n",
    "smiles.to_csv(directory_path + 'all/smiles.csv', index=None)\n",
    "logd.to_csv(directory_path + 'all/y.csv', index=None)\n",
    "\n",
    "# Save targets (split)\n",
    "pd.concat((train_smiles, train_y), axis=1).to_csv(directory_path + 'train.csv', index=None)\n",
    "pd.concat((validation_smiles, validation_y), axis=1).to_csv(directory_path + 'validation.csv', index=None)\n",
    "pd.concat((test_smiles, test_y), axis=1).to_csv(directory_path + 'test.csv', index=None)\n",
    "\n",
    "# Save SMILES\n",
    "train_smiles.to_csv(directory_path + 'train/smiles.csv', index=None)\n",
    "test_smiles.to_csv(directory_path + 'test/smiles.csv', index=None)\n",
    "validation_smiles.to_csv(directory_path + 'validation/smiles.csv', index=None)\n",
    "\n",
    "# Save targets\n",
    "train_y.to_csv(directory_path + 'train/y.csv', index=None)\n",
    "test_y.to_csv(directory_path + 'test/y.csv', index=None)\n",
    "validation_y.to_csv(directory_path + 'validation/y.csv', index=None)"
   ]
  },
  {
   "cell_type": "code",
   "execution_count": null,
   "id": "810620f1-9fc2-44ae-b9d6-cf429ac3a730",
   "metadata": {},
   "outputs": [],
   "source": []
  }
 ],
 "metadata": {
  "kernelspec": {
   "display_name": "Python 3 (ipykernel)",
   "language": "python",
   "name": "python3"
  },
  "language_info": {
   "codemirror_mode": {
    "name": "ipython",
    "version": 3
   },
   "file_extension": ".py",
   "mimetype": "text/x-python",
   "name": "python",
   "nbconvert_exporter": "python",
   "pygments_lexer": "ipython3",
   "version": "3.9.21"
  }
 },
 "nbformat": 4,
 "nbformat_minor": 5
}

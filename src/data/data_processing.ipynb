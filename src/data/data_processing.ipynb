{
 "cells": [
  {
   "cell_type": "code",
   "execution_count": 93,
   "id": "e41eed7d-531f-404c-86c9-319165e051e2",
   "metadata": {},
   "outputs": [],
   "source": [
    "import pandas as pd\n",
    "import numpy as np\n",
    "import matplotlib.pyplot as plt\n",
    "import os"
   ]
  },
  {
   "cell_type": "code",
   "execution_count": 94,
   "id": "ed1b05e1-c7d6-4eef-89bf-0ede724f9095",
   "metadata": {},
   "outputs": [],
   "source": [
    "data = pd.read_csv('lipophilicity.csv')"
   ]
  },
  {
   "cell_type": "code",
   "execution_count": 96,
   "id": "41e6f63c-abec-47da-b767-1290ed59fbad",
   "metadata": {},
   "outputs": [
    {
     "data": {
      "text/html": [
       "<div>\n",
       "<style scoped>\n",
       "    .dataframe tbody tr th:only-of-type {\n",
       "        vertical-align: middle;\n",
       "    }\n",
       "\n",
       "    .dataframe tbody tr th {\n",
       "        vertical-align: top;\n",
       "    }\n",
       "\n",
       "    .dataframe thead th {\n",
       "        text-align: right;\n",
       "    }\n",
       "</style>\n",
       "<table border=\"1\" class=\"dataframe\">\n",
       "  <thead>\n",
       "    <tr style=\"text-align: right;\">\n",
       "      <th></th>\n",
       "      <th>SMILES</th>\n",
       "      <th>logd</th>\n",
       "    </tr>\n",
       "  </thead>\n",
       "  <tbody>\n",
       "    <tr>\n",
       "      <th>0</th>\n",
       "      <td>Cn1c(CN2CCN(CC2)c3ccc(Cl)cc3)nc4ccccc14</td>\n",
       "      <td>3.54</td>\n",
       "    </tr>\n",
       "    <tr>\n",
       "      <th>1</th>\n",
       "      <td>COc1cc(OC)c(cc1NC(=O)CSCC(=O)O)S(=O)(=O)N2C(C)...</td>\n",
       "      <td>-1.18</td>\n",
       "    </tr>\n",
       "    <tr>\n",
       "      <th>2</th>\n",
       "      <td>COC(=O)[C@@H](N1CCc2sccc2C1)c3ccccc3Cl</td>\n",
       "      <td>3.69</td>\n",
       "    </tr>\n",
       "    <tr>\n",
       "      <th>3</th>\n",
       "      <td>OC[C@H](O)CN1C(=O)C(Cc2ccccc12)NC(=O)c3cc4cc(C...</td>\n",
       "      <td>3.37</td>\n",
       "    </tr>\n",
       "    <tr>\n",
       "      <th>4</th>\n",
       "      <td>Cc1cccc(C[C@H](NC(=O)c2cc(nn2C)C(C)(C)C)C(=O)N...</td>\n",
       "      <td>3.10</td>\n",
       "    </tr>\n",
       "    <tr>\n",
       "      <th>...</th>\n",
       "      <td>...</td>\n",
       "      <td>...</td>\n",
       "    </tr>\n",
       "    <tr>\n",
       "      <th>4195</th>\n",
       "      <td>OCCc1ccc(NC(=O)c2cc3cc(Cl)ccc3[nH]2)cc1</td>\n",
       "      <td>3.85</td>\n",
       "    </tr>\n",
       "    <tr>\n",
       "      <th>4196</th>\n",
       "      <td>CCN(C1CCN(CCC(c2ccc(F)cc2)c3ccc(F)cc3)CC1)C(=O...</td>\n",
       "      <td>3.21</td>\n",
       "    </tr>\n",
       "    <tr>\n",
       "      <th>4197</th>\n",
       "      <td>COc1cccc2[nH]ncc12</td>\n",
       "      <td>2.10</td>\n",
       "    </tr>\n",
       "    <tr>\n",
       "      <th>4198</th>\n",
       "      <td>Clc1ccc2ncccc2c1C(=O)NCC3CCCCC3</td>\n",
       "      <td>2.65</td>\n",
       "    </tr>\n",
       "    <tr>\n",
       "      <th>4199</th>\n",
       "      <td>CN1C(=O)C=C(CCc2ccc3ccccc3c2)N=C1N</td>\n",
       "      <td>2.70</td>\n",
       "    </tr>\n",
       "  </tbody>\n",
       "</table>\n",
       "<p>4200 rows × 2 columns</p>\n",
       "</div>"
      ],
      "text/plain": [
       "                                                 SMILES  logd\n",
       "0               Cn1c(CN2CCN(CC2)c3ccc(Cl)cc3)nc4ccccc14  3.54\n",
       "1     COc1cc(OC)c(cc1NC(=O)CSCC(=O)O)S(=O)(=O)N2C(C)... -1.18\n",
       "2                COC(=O)[C@@H](N1CCc2sccc2C1)c3ccccc3Cl  3.69\n",
       "3     OC[C@H](O)CN1C(=O)C(Cc2ccccc12)NC(=O)c3cc4cc(C...  3.37\n",
       "4     Cc1cccc(C[C@H](NC(=O)c2cc(nn2C)C(C)(C)C)C(=O)N...  3.10\n",
       "...                                                 ...   ...\n",
       "4195            OCCc1ccc(NC(=O)c2cc3cc(Cl)ccc3[nH]2)cc1  3.85\n",
       "4196  CCN(C1CCN(CCC(c2ccc(F)cc2)c3ccc(F)cc3)CC1)C(=O...  3.21\n",
       "4197                                 COc1cccc2[nH]ncc12  2.10\n",
       "4198                    Clc1ccc2ncccc2c1C(=O)NCC3CCCCC3  2.65\n",
       "4199                 CN1C(=O)C=C(CCc2ccc3ccccc3c2)N=C1N  2.70\n",
       "\n",
       "[4200 rows x 2 columns]"
      ]
     },
     "execution_count": 96,
     "metadata": {},
     "output_type": "execute_result"
    }
   ],
   "source": [
    "data"
   ]
  },
  {
   "cell_type": "code",
   "execution_count": 105,
   "id": "27b437a1-e66c-4fab-87cb-f613edf4947a",
   "metadata": {},
   "outputs": [],
   "source": [
    "mu = data.logd.mean()\n",
    "std = data.logd.std()\n",
    "\n",
    "data.loc[:, 'logd'] = (data.logd - mu)/std"
   ]
  },
  {
   "cell_type": "code",
   "execution_count": 116,
   "id": "160cbb8b-4169-4ac5-b525-f472d0aabf01",
   "metadata": {},
   "outputs": [],
   "source": [
    "smiles = data.SMILES\n",
    "logd = data.logd"
   ]
  },
  {
   "cell_type": "code",
   "execution_count": 118,
   "id": "8e4b8cea-e478-442b-b428-11ae4deccd28",
   "metadata": {},
   "outputs": [],
   "source": [
    "n_train, n_test = smiles.shape[0] * 8 // 10, len(smiles) // 10"
   ]
  },
  {
   "cell_type": "code",
   "execution_count": 120,
   "id": "d4fbe570-0a58-487d-9c58-0f6e96b99982",
   "metadata": {},
   "outputs": [],
   "source": [
    "# Split data\n",
    "train_smiles, validation_smiles, test_smiles= smiles.iloc[:n_train], smiles.iloc[n_train:n_train+n_test], smiles.iloc[n_train+n_test:]\n",
    "train_y, validation_y, test_y = logd.iloc[:n_train], logd.iloc[n_train:n_train+n_test], logd.iloc[n_train+n_test:]"
   ]
  },
  {
   "cell_type": "code",
   "execution_count": 121,
   "id": "a90af184-e51c-4325-8ccb-27186eed0511",
   "metadata": {},
   "outputs": [],
   "source": [
    "directory_path = './regress_lipophilicity/'\n",
    "\n",
    "# Save datasets\n",
    "pd.concat((smiles, logd), axis=1).to_csv(directory_path + 'all/smiles_y.csv', index=None)\n",
    "\n",
    "# Save targets\n",
    "smiles.to_csv(directory_path + 'all/smiles.csv', index=None)\n",
    "logd.to_csv(directory_path + 'all/y.csv', index=None)\n",
    "\n",
    "# Save targets (split)\n",
    "pd.concat((train_smiles, train_y), axis=1).to_csv(directory_path + 'train.csv', index=None)\n",
    "pd.concat((validation_smiles, validation_y), axis=1).to_csv(directory_path + 'validation.csv', index=None)\n",
    "pd.concat((test_smiles, test_y), axis=1).to_csv(directory_path + 'test.csv', index=None)\n",
    "\n",
    "# Save SMILES\n",
    "train_smiles.to_csv(directory_path + 'train/smiles.csv', index=None)\n",
    "test_smiles.to_csv(directory_path + 'test/smiles.csv', index=None)\n",
    "validation_smiles.to_csv(directory_path + 'validation/smiles.csv', index=None)\n",
    "\n",
    "# Save targets\n",
    "train_y.to_csv(directory_path + 'train/y.csv', index=None)\n",
    "test_y.to_csv(directory_path + 'test/y.csv', index=None)\n",
    "validation_y.to_csv(directory_path + 'validation/y.csv', index=None)"
   ]
  },
  {
   "cell_type": "code",
   "execution_count": null,
   "id": "810620f1-9fc2-44ae-b9d6-cf429ac3a730",
   "metadata": {},
   "outputs": [],
   "source": []
  }
 ],
 "metadata": {
  "kernelspec": {
   "display_name": "Python 3 (ipykernel)",
   "language": "python",
   "name": "python3"
  },
  "language_info": {
   "codemirror_mode": {
    "name": "ipython",
    "version": 3
   },
   "file_extension": ".py",
   "mimetype": "text/x-python",
   "name": "python",
   "nbconvert_exporter": "python",
   "pygments_lexer": "ipython3",
   "version": "3.9.21"
  }
 },
 "nbformat": 4,
 "nbformat_minor": 5
}

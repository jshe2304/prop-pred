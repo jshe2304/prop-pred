{
 "cells": [
  {
   "cell_type": "code",
   "execution_count": 1,
   "id": "1bde476b-744c-4757-94c7-80213c8f95b7",
   "metadata": {},
   "outputs": [],
   "source": [
    "import pandas as pd\n",
    "import numpy as np\n",
    "import os"
   ]
  },
  {
   "cell_type": "code",
   "execution_count": 2,
   "id": "9f3aa21e-5eab-4c1a-925b-6dcf3d6cba4a",
   "metadata": {},
   "outputs": [],
   "source": [
    "data = pd.read_csv('./cleaned.csv')\n",
    "properties = data.columns[1:]\n",
    "\n",
    "transforms = []"
   ]
  },
  {
   "cell_type": "markdown",
   "id": "1ce4237a-4dce-4ce4-9216-c74551685702",
   "metadata": {},
   "source": [
    "### Log"
   ]
  },
  {
   "cell_type": "code",
   "execution_count": 3,
   "id": "22152179-b6aa-4d71-b988-cccc0075b72e",
   "metadata": {},
   "outputs": [],
   "source": [
    "transforms.append('log')\n",
    "\n",
    "data.loc[:, properties] = np.log(data.loc[:, properties])"
   ]
  },
  {
   "cell_type": "markdown",
   "id": "57971946-f543-4938-aad4-85cd45fbe516",
   "metadata": {},
   "source": [
    "### Standardize"
   ]
  },
  {
   "cell_type": "code",
   "execution_count": 3,
   "id": "09c3c337-d978-4689-8c45-3448dd29fa8c",
   "metadata": {},
   "outputs": [],
   "source": [
    "transforms.append('standardize')\n",
    "\n",
    "for property_name in properties:\n",
    "\n",
    "    values = data.loc[:, property_name]\n",
    "\n",
    "    mu, sigma = values.mean(), values.std()\n",
    "\n",
    "    data.loc[:, property_name] = (values - mu)/sigma"
   ]
  },
  {
   "cell_type": "markdown",
   "id": "31853478-2fa0-4731-a204-700c6686a933",
   "metadata": {},
   "source": [
    "### Prefix"
   ]
  },
  {
   "cell_type": "code",
   "execution_count": 4,
   "id": "5e791f29-7329-4c85-b660-96d6d6542e20",
   "metadata": {},
   "outputs": [],
   "source": [
    "transforms.append('prefix')\n",
    "\n",
    "prefixed_columns = [\n",
    "    'property_' + column_name \n",
    "    if column_name != 'SMILES' else column_name \n",
    "    for column_name in data.columns\n",
    "]\n",
    "\n",
    "data.columns = prefixed_columns"
   ]
  },
  {
   "cell_type": "markdown",
   "id": "5a39906d-b53c-41a6-afff-45830a9f9c57",
   "metadata": {},
   "source": [
    "## Split and Save"
   ]
  },
  {
   "cell_type": "code",
   "execution_count": 5,
   "id": "68107dbf-2fc0-47e9-b089-9cbad64e0cc2",
   "metadata": {},
   "outputs": [],
   "source": [
    "n_train, n_test = data.shape[0] * 8 // 10, len(data) // 10"
   ]
  },
  {
   "cell_type": "code",
   "execution_count": 6,
   "id": "aa8de490-31a5-4c59-91ef-8388c73ffe5e",
   "metadata": {},
   "outputs": [],
   "source": [
    "train, test, validation = data.iloc[:n_train], data.iloc[n_train:n_train+n_test], data.iloc[n_train+n_test:]"
   ]
  },
  {
   "cell_type": "code",
   "execution_count": 7,
   "id": "b72a99ac-d297-4b41-9646-04269551241c",
   "metadata": {},
   "outputs": [],
   "source": [
    "directory_path = '_'.join(transforms)\n",
    "\n",
    "train.to_csv(f'{directory_path}/train.csv', index=None)\n",
    "test.to_csv(f'{directory_path}/test.csv', index=None)\n",
    "validation.to_csv(f'{directory_path}/validation.csv', index=None)"
   ]
  }
 ],
 "metadata": {
  "kernelspec": {
   "display_name": "Python 3 (ipykernel)",
   "language": "python",
   "name": "python3"
  },
  "language_info": {
   "codemirror_mode": {
    "name": "ipython",
    "version": 3
   },
   "file_extension": ".py",
   "mimetype": "text/x-python",
   "name": "python",
   "nbconvert_exporter": "python",
   "pygments_lexer": "ipython3",
   "version": "3.8.20"
  }
 },
 "nbformat": 4,
 "nbformat_minor": 5
}

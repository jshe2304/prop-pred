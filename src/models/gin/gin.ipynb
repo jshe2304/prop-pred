{
 "cells": [
  {
   "cell_type": "code",
   "execution_count": 16,
   "id": "1d98203e-f090-4032-92a7-c654c803e133",
   "metadata": {},
   "outputs": [
    {
     "name": "stdout",
     "output_type": "stream",
     "text": [
      "The autoreload extension is already loaded. To reload it, use:\n",
      "  %reload_ext autoreload\n"
     ]
    }
   ],
   "source": [
    "import sys\n",
    "import matplotlib.pyplot as plt\n",
    "import pandas\n",
    "\n",
    "sys.path.append('/home/jshe/prop-pred/src/data')\n",
    "from data_utils import *\n",
    "\n",
    "import torch\n",
    "import torch.nn as nn\n",
    "import torch_geometric as torchg\n",
    "from torch_geometric.loader import DataLoader\n",
    "from torch_geometric.utils import from_smiles\n",
    "\n",
    "from gin import GIN\n",
    "\n",
    "device = torch.device('cuda:0' if torch.cuda.is_available() else 'cpu')\n",
    "\n",
    "%load_ext autoreload\n",
    "%autoreload 2"
   ]
  },
  {
   "cell_type": "markdown",
   "id": "b9d9ce68-3a4c-446d-9c20-3b854bb09bd7",
   "metadata": {},
   "source": [
    "## Data"
   ]
  },
  {
   "cell_type": "code",
   "execution_count": 17,
   "id": "1580ec8d-4c68-4167-8cf4-5b825d3f424a",
   "metadata": {},
   "outputs": [],
   "source": [
    "datadir = '../../data/regress_immuno/'\n",
    "data = to_namedtuple(to_tensor(load_data(datadir), device))"
   ]
  },
  {
   "cell_type": "code",
   "execution_count": 18,
   "id": "eaac90c8-23a3-43c8-a78a-ee82c83c453e",
   "metadata": {},
   "outputs": [],
   "source": [
    "train_X = torch.concat((\n",
    "    data.train.embeddings, \n",
    "    #data.train.fingerprints\n",
    "), axis=1)\n",
    "validation_X = torch.concat((\n",
    "    data.validation.embeddings, \n",
    "    #data.validation.fingerprints\n",
    "), axis=1)\n",
    "test_X = torch.concat((\n",
    "    data.test.embeddings, \n",
    "    #ata.test.fingerprints\n",
    "), axis=1)"
   ]
  },
  {
   "cell_type": "code",
   "execution_count": 19,
   "id": "dd9c3d11-26dc-4224-9876-92ddedcb7ac2",
   "metadata": {},
   "outputs": [],
   "source": [
    "train_Y = torch.concat((\n",
    "    data.train.y, \n",
    "    #data.train.y_rdkit, \n",
    "), axis=1)[:, 0].unsqueeze(-1)\n",
    "validation_Y = torch.concat((\n",
    "    data.validation.y, \n",
    "    #data.validation.y_rdkit\n",
    "), axis=1)[:, 0].unsqueeze(-1)\n",
    "test_Y = torch.concat((\n",
    "    data.test.y, \n",
    "    #data.test.y_rdkit, \n",
    "), axis=1)[:, 0].unsqueeze(-1)"
   ]
  },
  {
   "cell_type": "code",
   "execution_count": 20,
   "id": "966496d2-762c-4644-96d4-6aba6b20dc20",
   "metadata": {},
   "outputs": [],
   "source": [
    "train_graphs = [from_smiles(smiles) for smiles in data.train.smiles]\n",
    "\n",
    "train_loader = DataLoader(train_graphs, batch_size=32, shuffle=True)"
   ]
  },
  {
   "cell_type": "markdown",
   "id": "29c6c9ec-cbbf-4c3a-b9ee-8097b0e6b569",
   "metadata": {},
   "source": [
    "## Model"
   ]
  },
  {
   "cell_type": "code",
   "execution_count": 30,
   "id": "36775198-db6f-406a-8363-c73e96a55609",
   "metadata": {},
   "outputs": [],
   "source": [
    "gin = GIN(in_dim=9, h_dim=64, out_dim=1)"
   ]
  },
  {
   "cell_type": "code",
   "execution_count": 35,
   "id": "f1746bc8-cefd-4e00-b54f-ca843532a00b",
   "metadata": {},
   "outputs": [
    {
     "data": {
      "text/plain": [
       "59073"
      ]
     },
     "execution_count": 35,
     "metadata": {},
     "output_type": "execute_result"
    }
   ],
   "source": [
    "sum(p.numel() for p in gin.parameters())"
   ]
  }
 ],
 "metadata": {
  "kernelspec": {
   "display_name": "Python 3 (ipykernel)",
   "language": "python",
   "name": "python3"
  },
  "language_info": {
   "codemirror_mode": {
    "name": "ipython",
    "version": 3
   },
   "file_extension": ".py",
   "mimetype": "text/x-python",
   "name": "python",
   "nbconvert_exporter": "python",
   "pygments_lexer": "ipython3",
   "version": "3.9.21"
  }
 },
 "nbformat": 4,
 "nbformat_minor": 5
}

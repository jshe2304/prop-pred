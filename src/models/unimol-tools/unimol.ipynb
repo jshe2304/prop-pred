{
 "cells": [
  {
   "cell_type": "code",
   "execution_count": 1,
   "id": "8ef0163b-f28c-4fa7-a102-3f1d94ea7171",
   "metadata": {},
   "outputs": [
    {
     "name": "stderr",
     "output_type": "stream",
     "text": [
      "2025-01-20 15:48:49 | unimol_tools/weights/weighthub.py | 17 | INFO | Uni-Mol Tools | Weights will be downloaded to default directory: /scratch/midway3/jshe/.conda/envs/unimol/lib/python3.10/site-packages/unimol_tools/weights\n"
     ]
    }
   ],
   "source": [
    "import numpy as np\n",
    "import pandas as pd\n",
    "import matplotlib.pyplot as plt\n",
    "\n",
    "from unimol_tools import MolPredict, UniMolRepr"
   ]
  },
  {
   "cell_type": "markdown",
   "id": "d91df514-e41a-46e3-b58f-ade95d3c2570",
   "metadata": {},
   "source": [
    "## Data"
   ]
  },
  {
   "cell_type": "code",
   "execution_count": 2,
   "id": "c37cb9e4-8f6a-4953-8d13-7cef22382b42",
   "metadata": {},
   "outputs": [],
   "source": [
    "data_path = '../../data/immunomodulation/log_normalized/regression/'"
   ]
  },
  {
   "cell_type": "code",
   "execution_count": 3,
   "id": "72221277-cc95-4693-b947-76c9a769e67b",
   "metadata": {},
   "outputs": [],
   "source": [
    "train = pd.read_csv(data_path + 'train.csv')"
   ]
  },
  {
   "cell_type": "code",
   "execution_count": 8,
   "id": "51b10be8-fc13-40a8-bb68-d727578459a9",
   "metadata": {},
   "outputs": [],
   "source": [
    "train_X = pd.read_csv(data_path + 'train/smiles.csv').to_numpy().squeeze().tolist()\n",
    "validation_X = pd.read_csv(data_path + 'validation/smiles.csv').to_numpy().squeeze().tolist()\n",
    "test_X = pd.read_csv(data_path + 'test/smiles.csv').to_numpy().squeeze().tolist()"
   ]
  },
  {
   "cell_type": "markdown",
   "id": "7da204b0-c0d3-4a13-94dd-c4090c19c5dd",
   "metadata": {},
   "source": [
    "## Model"
   ]
  },
  {
   "cell_type": "code",
   "execution_count": 9,
   "id": "cef21d6f-fdc6-473e-8db4-cebe19838ca0",
   "metadata": {},
   "outputs": [],
   "source": [
    "model_path = './models/v1'"
   ]
  },
  {
   "cell_type": "markdown",
   "id": "e9fb3603-dcd7-41aa-882d-d65e50f9ffbb",
   "metadata": {},
   "source": [
    "## Prediction"
   ]
  },
  {
   "cell_type": "code",
   "execution_count": 10,
   "id": "8e685be9-c14d-4a31-8f85-1c0be885d6f5",
   "metadata": {},
   "outputs": [
    {
     "name": "stderr",
     "output_type": "stream",
     "text": [
      "2025-01-15 23:41:38 | unimol_tools/data/conformer.py | 126 | INFO | Uni-Mol Tools | Start generating conformers...\n",
      "356it [00:19, 18.62it/s]\n",
      "2025-01-15 23:41:57 | unimol_tools/data/conformer.py | 135 | INFO | Uni-Mol Tools | Succeeded in generating conformers for 100.00% of molecules.\n",
      "2025-01-15 23:41:57 | unimol_tools/data/conformer.py | 142 | INFO | Uni-Mol Tools | Succeeded in generating 3d conformers for 99.72% of molecules.\n",
      "2025-01-15 23:41:57 | unimol_tools/data/conformer.py | 145 | INFO | Uni-Mol Tools | Failed 3d conformers indices: [8]\n",
      "2025-01-15 23:41:58 | unimol_tools/models/unimol.py | 120 | INFO | Uni-Mol Tools | Loading pretrained weights from /scratch/midway3/jshe/.conda/envs/unimol/lib/python3.10/site-packages/unimol_tools/weights/mol_pre_all_h_220816.pt\n",
      "2025-01-15 23:41:58 | unimol_tools/models/nnmodel.py | 221 | INFO | Uni-Mol Tools | start predict NNModel:unimolv1\n",
      "2025-01-15 23:42:00 | unimol_tools/tasks/trainer.py | 298 | INFO | Uni-Mol Tools | load model success!\n",
      "2025-01-15 23:42:03 | unimol_tools/tasks/trainer.py | 298 | INFO | Uni-Mol Tools | load model success!\n",
      "2025-01-15 23:42:05 | unimol_tools/tasks/trainer.py | 298 | INFO | Uni-Mol Tools | load model success!\n",
      "2025-01-15 23:42:07 | unimol_tools/tasks/trainer.py | 298 | INFO | Uni-Mol Tools | load model success!\n",
      "2025-01-15 23:42:09 | unimol_tools/tasks/trainer.py | 298 | INFO | Uni-Mol Tools | load model success!\n",
      "2025-01-15 23:42:10 | unimol_tools/predict.py | 92 | INFO | Uni-Mol Tools | final predict metrics score: \n",
      "{'mse': 0.993751505013622, 'mae': 0.5965469629186291, 'r2': 0.07256510816142805}\n"
     ]
    }
   ],
   "source": [
    "unimol = MolPredict(load_model=model_path)\n",
    "\n",
    "predictions = pd.DataFrame(unimol.predict(data=data_path + 'test.csv'))"
   ]
  },
  {
   "cell_type": "markdown",
   "id": "600de5d7-d781-4a65-988a-b91546945bed",
   "metadata": {},
   "source": [
    "## Representations"
   ]
  },
  {
   "cell_type": "code",
   "execution_count": 11,
   "id": "8268ed83-5ef0-427d-b694-e8052e83267c",
   "metadata": {},
   "outputs": [
    {
     "name": "stderr",
     "output_type": "stream",
     "text": [
      "2025-01-15 23:42:26 | unimol_tools/models/unimol.py | 120 | INFO | Uni-Mol Tools | Loading pretrained weights from /scratch/midway3/jshe/.conda/envs/unimol/lib/python3.10/site-packages/unimol_tools/weights/mol_pre_all_h_220816.pt\n"
     ]
    }
   ],
   "source": [
    "embedder = UniMolRepr(data_type='molecule', remove_hs=False)"
   ]
  },
  {
   "cell_type": "code",
   "execution_count": 12,
   "id": "c6dac8c9-6581-426f-8aef-1cb398652a23",
   "metadata": {},
   "outputs": [],
   "source": [
    "embedder.model = unimol.model.model"
   ]
  },
  {
   "cell_type": "code",
   "execution_count": 13,
   "id": "8b92ac63-71ff-47f6-b9ab-25d159dc6bf0",
   "metadata": {},
   "outputs": [
    {
     "name": "stderr",
     "output_type": "stream",
     "text": [
      "2025-01-15 23:43:02 | unimol_tools/data/conformer.py | 126 | INFO | Uni-Mol Tools | Start generating conformers...\n",
      "2848it [00:32, 86.84it/s] \n",
      "2025-01-15 23:43:35 | unimol_tools/data/conformer.py | 135 | INFO | Uni-Mol Tools | Succeeded in generating conformers for 100.00% of molecules.\n",
      "2025-01-15 23:43:35 | unimol_tools/data/conformer.py | 142 | INFO | Uni-Mol Tools | Succeeded in generating 3d conformers for 99.96% of molecules.\n",
      "2025-01-15 23:43:35 | unimol_tools/data/conformer.py | 145 | INFO | Uni-Mol Tools | Failed 3d conformers indices: [682]\n",
      "100%|███████████████████████████████████████████| 89/89 [00:07<00:00, 12.18it/s]\n",
      "2025-01-15 23:43:42 | unimol_tools/data/conformer.py | 126 | INFO | Uni-Mol Tools | Start generating conformers...\n",
      "356it [00:03, 91.82it/s] \n",
      "2025-01-15 23:43:47 | unimol_tools/data/conformer.py | 135 | INFO | Uni-Mol Tools | Succeeded in generating conformers for 100.00% of molecules.\n",
      "2025-01-15 23:43:47 | unimol_tools/data/conformer.py | 142 | INFO | Uni-Mol Tools | Succeeded in generating 3d conformers for 100.00% of molecules.\n",
      "100%|███████████████████████████████████████████| 12/12 [00:00<00:00, 13.42it/s]\n",
      "2025-01-15 23:43:48 | unimol_tools/data/conformer.py | 126 | INFO | Uni-Mol Tools | Start generating conformers...\n",
      "356it [00:19, 18.59it/s]\n",
      "2025-01-15 23:44:07 | unimol_tools/data/conformer.py | 135 | INFO | Uni-Mol Tools | Succeeded in generating conformers for 100.00% of molecules.\n",
      "2025-01-15 23:44:07 | unimol_tools/data/conformer.py | 142 | INFO | Uni-Mol Tools | Succeeded in generating 3d conformers for 99.72% of molecules.\n",
      "2025-01-15 23:44:07 | unimol_tools/data/conformer.py | 145 | INFO | Uni-Mol Tools | Failed 3d conformers indices: [8]\n",
      "100%|███████████████████████████████████████████| 12/12 [00:00<00:00, 13.64it/s]\n"
     ]
    }
   ],
   "source": [
    "train_embeddings = np.array(embedder.get_repr(train_X, return_atomic_reprs=True)['cls_repr'])\n",
    "validation_embeddings = np.array(embedder.get_repr(validation_X, return_atomic_reprs=True)['cls_repr'])\n",
    "test_embeddings = np.array(embedder.get_repr(test_X, return_atomic_reprs=True)['cls_repr'])\n",
    "\n",
    "np.save(data_path + 'train/unimol_embeddings.npy', train_embeddings)\n",
    "np.save(data_path + 'validation/unimol_embeddings.npy', validation_embeddings)\n",
    "np.save(data_path + 'test/unimol_embeddings.npy', test_embeddings)"
   ]
  }
 ],
 "metadata": {
  "kernelspec": {
   "display_name": "Python 3 (ipykernel)",
   "language": "python",
   "name": "python3"
  },
  "language_info": {
   "codemirror_mode": {
    "name": "ipython",
    "version": 3
   },
   "file_extension": ".py",
   "mimetype": "text/x-python",
   "name": "python",
   "nbconvert_exporter": "python",
   "pygments_lexer": "ipython3",
   "version": "3.10.15"
  }
 },
 "nbformat": 4,
 "nbformat_minor": 5
}

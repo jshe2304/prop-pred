{
 "cells": [
  {
   "cell_type": "code",
   "execution_count": 5,
   "id": "1d98203e-f090-4032-92a7-c654c803e133",
   "metadata": {},
   "outputs": [
    {
     "name": "stdout",
     "output_type": "stream",
     "text": [
      "The autoreload extension is already loaded. To reload it, use:\n",
      "  %reload_ext autoreload\n"
     ]
    }
   ],
   "source": [
    "import pandas\n",
    "import matplotlib.pyplot as plt\n",
    "\n",
    "import sys\n",
    "sys.path.append('/home/jshe/prop-pred/src/data')\n",
    "from utils import *\n",
    "\n",
    "import torch\n",
    "import torch.nn as nn\n",
    "import torch_geometric as torchg\n",
    "import torch_geometric.nn as gnn\n",
    "from torch_geometric.loader import DataLoader\n",
    "from torch_geometric.utils import from_smiles\n",
    "\n",
    "from model import *\n",
    "\n",
    "from rdkit.Chem import MolFromSmiles\n",
    "\n",
    "device = torch.device('cuda:0' if torch.cuda.is_available() else 'cpu')\n",
    "\n",
    "%load_ext autoreload\n",
    "%autoreload 2"
   ]
  },
  {
   "cell_type": "code",
   "execution_count": null,
   "id": "2789a98b-5cf6-4606-9a17-66c3f455a7fa",
   "metadata": {},
   "outputs": [],
   "source": []
  },
  {
   "cell_type": "markdown",
   "id": "b9d9ce68-3a4c-446d-9c20-3b854bb09bd7",
   "metadata": {},
   "source": [
    "## Data"
   ]
  },
  {
   "cell_type": "code",
   "execution_count": 6,
   "id": "1580ec8d-4c68-4167-8cf4-5b825d3f424a",
   "metadata": {},
   "outputs": [],
   "source": [
    "datadir = '../../data/regress_immuno/'\n",
    "data = to_namedtuple(to_tensor(load_data(datadir), device))"
   ]
  },
  {
   "cell_type": "code",
   "execution_count": 7,
   "id": "eaac90c8-23a3-43c8-a78a-ee82c83c453e",
   "metadata": {},
   "outputs": [],
   "source": [
    "train_X = data.train.smiles\n",
    "validation_X = data.validation.smiles\n",
    "test_X = data.test.smiles"
   ]
  },
  {
   "cell_type": "code",
   "execution_count": 149,
   "id": "dd9c3d11-26dc-4224-9876-92ddedcb7ac2",
   "metadata": {},
   "outputs": [],
   "source": [
    "train_Y = data.train.y\n",
    "validation_Y = data.validation.y\n",
    "test_Y = data.test.y"
   ]
  },
  {
   "cell_type": "code",
   "execution_count": 15,
   "id": "563368a3-8d26-45b7-924e-2fd98dc51c67",
   "metadata": {},
   "outputs": [
    {
     "data": {
      "text/plain": [
       "array(['COC(=O)CNC(c1ccccc1)c1cc(Br)ccc1NC(=O)c1ccccc1Cl',\n",
       "       'O=C(NCC1CCCO1)c1[nH]nnc1-c1ccc(F)cc1',\n",
       "       'O=C1NC(=O)C(=CNc2cccc(O)c2)C(=O)N1',\n",
       "       'N#Cc1c(Oc2ccc(F)c(NC(=O)Cc3cccc(C(F)(F)F)c3)c2)ccc2nc(NC(=O)C3CC3)sc12',\n",
       "       'C=CC(=O)N1CC(Nc2ncnc3[nH]ccc23)CCC1C',\n",
       "       'Cc1nnc(NN=Cc2ccc(Cl)c([N+](=O)[O-])c2)[nH]c1=O',\n",
       "       'Cc1cccc(CN2CCN(C(c3ccccc3)c3ccc(Cl)cc3)CC2)c1.Cl.Cl',\n",
       "       'O=c1c(O)c(-c2ccc(O)cc2O)oc2cc(O)cc(O)c12',\n",
       "       'CCOc1ccc(C=C2SC(=S)N(C)C2=O)cc1', 'COc1ccccc1OCC(O)COC(N)=O',\n",
       "       'O=S(=O)(c1ccc(F)cc1)N1CCC(c2nc3ccccc3[nH]2)CC1',\n",
       "       'NC1(C(=O)NC(CCO)c2ccc(Cl)cc2)CCN(c2ncnc3[nH]ccc23)CC1',\n",
       "       'Nc1nc(NC2CC2)c2ncn(C3C=CC(CO)C3)c2n1',\n",
       "       'O=C(O)c1ccc2c3c1cccc3c(=O)n1c3ccccc3nc21',\n",
       "       'CCN1C(C)=C(C(=O)OC)C(c2ccc([N+](=O)[O-])cc2)C(C(=O)OC)=C1C',\n",
       "       'CCN1/C(=C/C(C)=O)Sc2ccc(OC)cc21'], dtype=object)"
      ]
     },
     "execution_count": 15,
     "metadata": {},
     "output_type": "execute_result"
    }
   ],
   "source": [
    "train_X[100:116]"
   ]
  },
  {
   "cell_type": "code",
   "execution_count": 150,
   "id": "966496d2-762c-4644-96d4-6aba6b20dc20",
   "metadata": {},
   "outputs": [],
   "source": [
    "train_graphs = [from_smiles(smiles) for smiles in data.train.smiles]\n",
    "\n",
    "train_loader = DataLoader(train_graphs, batch_size=32, shuffle=False)"
   ]
  },
  {
   "cell_type": "markdown",
   "id": "29c6c9ec-cbbf-4c3a-b9ee-8097b0e6b569",
   "metadata": {},
   "source": [
    "## Model"
   ]
  },
  {
   "cell_type": "code",
   "execution_count": 159,
   "id": "cf4bfa24-0dee-47a4-8803-89d603719bfa",
   "metadata": {},
   "outputs": [],
   "source": [
    "model = Transformer(\n",
    "    in_features=9, embed_channels=64, \n",
    "    heads=4, out_features=1, dropout=0.2\n",
    ").to(device)"
   ]
  },
  {
   "cell_type": "code",
   "execution_count": 160,
   "id": "c5e162da-a9df-4741-8d6c-518d2c954215",
   "metadata": {},
   "outputs": [],
   "source": [
    "x = next(iter(train_loader)).to(device)"
   ]
  },
  {
   "cell_type": "code",
   "execution_count": 161,
   "id": "d03f8f73-4a61-404f-8894-a7ce686cdde4",
   "metadata": {},
   "outputs": [],
   "source": [
    "y = model(x)"
   ]
  },
  {
   "cell_type": "code",
   "execution_count": 163,
   "id": "3ac86822",
   "metadata": {},
   "outputs": [
    {
     "data": {
      "text/plain": [
       "torch.Size([891, 16])"
      ]
     },
     "execution_count": 163,
     "metadata": {},
     "output_type": "execute_result"
    }
   ],
   "source": [
    "y.shape"
   ]
  },
  {
   "cell_type": "code",
   "execution_count": null,
   "id": "daa9a53a",
   "metadata": {},
   "outputs": [],
   "source": []
  }
 ],
 "metadata": {
  "kernelspec": {
   "display_name": "Python 3 (ipykernel)",
   "language": "python",
   "name": "python3"
  },
  "language_info": {
   "codemirror_mode": {
    "name": "ipython",
    "version": 3
   },
   "file_extension": ".py",
   "mimetype": "text/x-python",
   "name": "python",
   "nbconvert_exporter": "python",
   "pygments_lexer": "ipython3",
   "version": "3.9.21"
  }
 },
 "nbformat": 4,
 "nbformat_minor": 5
}

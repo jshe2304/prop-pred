{
 "cells": [
  {
   "cell_type": "code",
   "execution_count": 27,
   "id": "1d98203e-f090-4032-92a7-c654c803e133",
   "metadata": {},
   "outputs": [
    {
     "name": "stdout",
     "output_type": "stream",
     "text": [
      "The autoreload extension is already loaded. To reload it, use:\n",
      "  %reload_ext autoreload\n"
     ]
    }
   ],
   "source": [
    "import matplotlib.pyplot as plt\n",
    "import pandas as pd\n",
    "\n",
    "import sys\n",
    "sys.path.append('/home/jshe/prop-pred/src/data')\n",
    "from data_utils.datasets import SmilesDataset\n",
    "from data_utils.graphs import smiles_to_graphs\n",
    "\n",
    "from graph_transformer import GraphTransformer\n",
    "\n",
    "import torch\n",
    "import torch.nn as nn\n",
    "from torch.utils.data import random_split, DataLoader\n",
    "\n",
    "from sklearn.metrics import r2_score\n",
    "\n",
    "device = torch.device('cuda:0' if torch.cuda.is_available() else 'cpu')\n",
    "\n",
    "%load_ext autoreload\n",
    "%autoreload 2"
   ]
  },
  {
   "cell_type": "markdown",
   "id": "b9d9ce68-3a4c-446d-9c20-3b854bb09bd7",
   "metadata": {},
   "source": [
    "## Data"
   ]
  },
  {
   "cell_type": "code",
   "execution_count": 28,
   "id": "70a68883-bf15-4865-b124-20ab71a231d9",
   "metadata": {},
   "outputs": [],
   "source": [
    "dataset = SmilesDataset(\n",
    "    smiles='/home/jshe/prop-pred/src/data/qm9/smiles.csv', \n",
    "    y='/home/jshe/prop-pred/src/data/qm9/norm_y.csv', \n",
    "    d = '/home/jshe/prop-pred/src/data/qm9/distances.npy'\n",
    ")\n",
    "\n",
    "train_dataset, validation_dataset, test_dataset = random_split(\n",
    "    dataset, lengths=(0.8, 0.1, 0.1), \n",
    "    generator=torch.Generator().manual_seed(8)\n",
    ")"
   ]
  },
  {
   "cell_type": "code",
   "execution_count": 48,
   "id": "4ab737f0-7e90-41f8-a180-3c68a8e18bf4",
   "metadata": {},
   "outputs": [],
   "source": [
    "train_dataloader = DataLoader(train_dataset, batch_size=64, shuffle=True)\n",
    "validation_dataloader = DataLoader(validation_dataset, batch_size=4096, shuffle=True)"
   ]
  },
  {
   "cell_type": "markdown",
   "id": "29c6c9ec-cbbf-4c3a-b9ee-8097b0e6b569",
   "metadata": {},
   "source": [
    "## Model"
   ]
  },
  {
   "cell_type": "code",
   "execution_count": 31,
   "id": "8d24e863-d9db-46de-9085-7385e6357822",
   "metadata": {},
   "outputs": [
    {
     "name": "stdout",
     "output_type": "stream",
     "text": [
      "400847\n"
     ]
    }
   ],
   "source": [
    "hyperparameters = dict(\n",
    "    numerical_features=5, categorical_features=(9+1, 8+1, 2+1, 2+1), \n",
    "    E=64, H=4, stack='MMMMMMMM', \n",
    "    dropout=0.1, \n",
    "    out_features=dataset.n_properties, \n",
    ")\n",
    "\n",
    "model = GraphTransformer(**hyperparameters).to(device)\n",
    "model.eval()\n",
    "\n",
    "print(sum(p.numel() for p in model.parameters()))"
   ]
  },
  {
   "cell_type": "code",
   "execution_count": 32,
   "id": "8be9c57d-1f05-4484-8952-c7d592bd5bf5",
   "metadata": {},
   "outputs": [
    {
     "data": {
      "text/plain": [
       "<All keys matched successfully>"
      ]
     },
     "execution_count": 32,
     "metadata": {},
     "output_type": "execute_result"
    }
   ],
   "source": [
    "model.load_state_dict(torch.load('./weights/E64H4/MMMMMMMM.pt', map_location=device))"
   ]
  },
  {
   "cell_type": "markdown",
   "id": "3cc4bed2-70e3-45a5-85c4-3dcfd2873a0f",
   "metadata": {},
   "source": [
    "## Train"
   ]
  },
  {
   "cell_type": "code",
   "execution_count": 52,
   "id": "6397e0d1-e742-4ad2-970f-f61a6ced79a0",
   "metadata": {},
   "outputs": [],
   "source": [
    "smiles, d, y_true = next(iter(validation_dataloader))\n",
    "\n",
    "nodes_numerical, nodes_categorical, adj, padding = smiles_to_graphs(smiles, device=device)"
   ]
  },
  {
   "cell_type": "code",
   "execution_count": 53,
   "id": "6662eada-4ed4-4844-9c9b-30e67748606f",
   "metadata": {},
   "outputs": [],
   "source": [
    "y = model(nodes_numerical.float(), nodes_categorical, d, adj, padding)"
   ]
  },
  {
   "cell_type": "code",
   "execution_count": 54,
   "id": "f7461b28-0d4d-4220-ba92-7c6ef733d10d",
   "metadata": {},
   "outputs": [
    {
     "data": {
      "text/plain": [
       "tensor(0.0849, grad_fn=<MeanBackward0>)"
      ]
     },
     "execution_count": 54,
     "metadata": {},
     "output_type": "execute_result"
    }
   ],
   "source": [
    "nn.L1Loss()(y_true, y)"
   ]
  },
  {
   "cell_type": "code",
   "execution_count": 7,
   "id": "9253e585-c471-4078-b032-d300c95b0b0e",
   "metadata": {},
   "outputs": [],
   "source": [
    "B, L, _ = nodes_numerical.shape\n",
    "\n",
    "padding_mask = padding.unsqueeze(-1).expand(B, L, model.E)\n",
    "padding_causal_mask = (padding.unsqueeze(-2) | padding.unsqueeze(-1)).unsqueeze(1)\n",
    "graph_causal_mask = ~adj.unsqueeze(1)\n",
    "diag_causal_mask = torch.diag(torch.ones(L)).bool().expand_as(padding_causal_mask).to(padding.device)"
   ]
  },
  {
   "cell_type": "code",
   "execution_count": 8,
   "id": "e945b44f-1fec-4d00-b044-316ff7aa5793",
   "metadata": {},
   "outputs": [],
   "source": [
    "coulomb_bias = -2 * torch.log(d).unsqueeze(1)\n",
    "potential_bias = -torch.log(d).unsqueeze(1)"
   ]
  },
  {
   "cell_type": "code",
   "execution_count": 86,
   "id": "941506e0-f230-4415-b8bb-fe9975a0015a",
   "metadata": {},
   "outputs": [],
   "source": [
    "mixed_causal_mask = torch.concat((\n",
    "    padding_causal_mask.expand(B, model.H // 2, L, L), \n",
    "    graph_causal_mask.expand(B, model.H // 2, L, L), \n",
    "), dim=1)"
   ]
  },
  {
   "cell_type": "code",
   "execution_count": 57,
   "id": "28e5462a-578a-4413-8554-984f5a69bd25",
   "metadata": {},
   "outputs": [],
   "source": [
    "mixed_bias = torch.concat((\n",
    "    coulomb_bias.expand(B, model.H // 2, L, L), \n",
    "    torch.zeros(B, model.H // 2, L, L), \n",
    "), dim=1)"
   ]
  }
 ],
 "metadata": {
  "kernelspec": {
   "display_name": "Python 3 (ipykernel)",
   "language": "python",
   "name": "python3"
  },
  "language_info": {
   "codemirror_mode": {
    "name": "ipython",
    "version": 3
   },
   "file_extension": ".py",
   "mimetype": "text/x-python",
   "name": "python",
   "nbconvert_exporter": "python",
   "pygments_lexer": "ipython3",
   "version": "3.9.21"
  }
 },
 "nbformat": 4,
 "nbformat_minor": 5
}

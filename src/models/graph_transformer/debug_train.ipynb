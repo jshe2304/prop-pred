{
 "cells": [
  {
   "cell_type": "code",
   "execution_count": 1,
   "id": "a352728a-e2bb-443b-97f9-acc095b72f6c",
   "metadata": {},
   "outputs": [],
   "source": [
    "import sys\n",
    "sys.path.append('/home/jshe/prop-pred/src/data')\n",
    "from data_utils.datasets import SmilesDataset\n",
    "from data_utils.graphs import smiles_to_graphs\n",
    "\n",
    "#from graph_transformer import GraphTransformer\n",
    "\n",
    "import torch\n",
    "import torch.nn as nn\n",
    "from torch.utils.data import random_split, DataLoader\n",
    "\n",
    "device = torch.device('cuda:0' if torch.cuda.is_available() else 'cpu')"
   ]
  },
  {
   "cell_type": "markdown",
   "id": "50ce70a2-2878-4d95-800c-07598646d6af",
   "metadata": {},
   "source": [
    "## Data"
   ]
  },
  {
   "cell_type": "code",
   "execution_count": 2,
   "id": "26cc8f65-c56d-47cb-96c3-21dd7e1ac88c",
   "metadata": {},
   "outputs": [],
   "source": [
    "dataset = SmilesDataset(\n",
    "    smiles='/home/jshe/prop-pred/src/data/qm9/smiles.csv', \n",
    "    y='/home/jshe/prop-pred/src/data/qm9/norm_y.csv', \n",
    "    d='/home/jshe/prop-pred/src/data/qm9/distances.npy'\n",
    ")\n",
    "train_dataset, *_ = random_split(\n",
    "    dataset, lengths=(0.8, 0.1, 0.1), \n",
    "    generator=torch.Generator().manual_seed(16)\n",
    ")\n",
    "del _\n",
    "\n",
    "train_dataloader = DataLoader(train_dataset, batch_size=8, shuffle=True)"
   ]
  },
  {
   "cell_type": "code",
   "execution_count": 3,
   "id": "e328a1c2-094a-427b-b035-325a13243bc1",
   "metadata": {},
   "outputs": [
    {
     "name": "stdout",
     "output_type": "stream",
     "text": [
      "Amount of padding: tensor([0, 1, 0, 0, 0, 0, 0, 0])\n"
     ]
    }
   ],
   "source": [
    "smiles, d, y_true = next(iter(train_dataloader))\n",
    "numerical_node_features, categorical_node_features, edges, padding = smiles_to_graphs(smiles, device=device)\n",
    "\n",
    "print(f'Amount of padding: {torch.sum(numerical_node_features.sum(dim=-1) == 0, dim=-1)}')"
   ]
  },
  {
   "cell_type": "markdown",
   "id": "84c87ead-bf3f-4bc1-90ef-95c4c94d4ce5",
   "metadata": {},
   "source": [
    "## Model"
   ]
  },
  {
   "cell_type": "code",
   "execution_count": 4,
   "id": "357dc944-a541-4993-a3ae-d5f926237471",
   "metadata": {
    "jupyter": {
     "source_hidden": true
    }
   },
   "outputs": [],
   "source": [
    "class MultiheadAttention(nn.Module):\n",
    "    def __init__(self, E, H, dropout):\n",
    "        super().__init__()\n",
    "\n",
    "        self.E, self.H = E, H\n",
    "        self.scale = (E // H) ** -0.5\n",
    "\n",
    "        self.QKV = nn.Linear(E, E * 3, bias=False)\n",
    "        self.out_map = nn.Linear(E, E, bias=False)\n",
    "\n",
    "    def forward(self, embeddings, mask=None, bias=None):\n",
    "\n",
    "        B, L, E = embeddings.size() # Batch, no. Tokens, Embed dim.\n",
    "        A = E // self.H # Attention dim.\n",
    "\n",
    "        # Compute and separate Q, K, V matrices\n",
    "\n",
    "        qkv = self.QKV(embeddings)\n",
    "        qkv = qkv.reshape(B, L, self.H, 3 * A)\n",
    "        qkv = qkv.permute(0, 2, 1, 3)\n",
    "        q, k, v = qkv.chunk(3, dim=-1)\n",
    "\n",
    "        # Compute masked attention pattern\n",
    "\n",
    "        attn = q @ k.transpose(-2, -1) * self.scale\n",
    "        if bias is not None:\n",
    "            attn += bias\n",
    "        if mask is not None: \n",
    "            attn.masked_fill_(mask.unsqueeze(1), torch.finfo(attn.dtype).min)\n",
    "        attn = torch.softmax(attn, dim=-1)\n",
    "\n",
    "        # Compute values\n",
    "\n",
    "        values = attn @ v\n",
    "        values = values.permute(0, 2, 1, 3) # (B, L, H, A)\n",
    "        values = values.reshape(B, L, E) # E = H * A\n",
    "        \n",
    "        return self.out_map(values)\n"
   ]
  },
  {
   "cell_type": "code",
   "execution_count": 5,
   "id": "85273e72-d045-4906-89e2-f160be15cb33",
   "metadata": {
    "jupyter": {
     "source_hidden": true
    }
   },
   "outputs": [],
   "source": [
    "class TransformerBlock(nn.Module):\n",
    "    def __init__(self, E, H, dropout):\n",
    "        super().__init__()\n",
    "        \n",
    "        self.attention = MultiheadAttention(E, H, dropout)\n",
    "        self.norm_1 = nn.LayerNorm(E)\n",
    "        self.mlp = nn.Sequential(\n",
    "            nn.Linear(E, E * 4), \n",
    "            nn.ReLU(), \n",
    "            nn.Linear(E * 4, E)\n",
    "        )\n",
    "        self.norm_2 = nn.LayerNorm(E)\n",
    "        self.dropout = nn.Dropout(dropout)\n",
    "\n",
    "    def forward(self, x0, padding_mask, causal_mask=None, bias=None):\n",
    "\n",
    "        # Attention residual block\n",
    "\n",
    "        x1 = self.attention(x0, causal_mask, bias)\n",
    "        x1 = self.dropout(x1) \n",
    "        x2 = x1 + x0\n",
    "        x2 = self.norm_1(x2)\n",
    "\n",
    "        # MLP residual block\n",
    "        x3 = self.mlp(x2)\n",
    "        x3 = x3.masked_fill(padding_mask, 0)\n",
    "        x3 = self.dropout(x3)\n",
    "        x4 = x3 + x2\n",
    "        x4 = self.norm_2(x4)\n",
    "\n",
    "        return x4"
   ]
  },
  {
   "cell_type": "code",
   "execution_count": 6,
   "id": "57510def-d5fd-4787-a9d4-b5bee7675e06",
   "metadata": {
    "jupyter": {
     "source_hidden": true
    }
   },
   "outputs": [],
   "source": [
    "class GraphTransformer(nn.Module):\n",
    "    '''\n",
    "    Transformer with local and global masked self-attention stack. \n",
    "    '''\n",
    "    def __init__(self, numerical_features, categorical_features, E, H, stack, out_features, dropout):\n",
    "        super().__init__()\n",
    "\n",
    "        self.E, self.H = E, H\n",
    "        self.stack = stack\n",
    "\n",
    "        # Embedding layers\n",
    "        self.numerical_embed = nn.Linear(numerical_features, E, bias=False)\n",
    "        self.categorical_embeds = nn.ModuleList([\n",
    "            nn.Embedding(n_categories, E, padding_idx=0) \n",
    "            for n_categories in categorical_features\n",
    "        ])\n",
    "\n",
    "        # Transformer blocks\n",
    "        self.transformer_blocks = nn.ModuleList([\n",
    "            TransformerBlock(E, H, dropout)\n",
    "            for _ in range(len(stack))\n",
    "        ])\n",
    "\n",
    "        # Out map\n",
    "        self.out_map = nn.Linear(E, out_features)\n",
    "\n",
    "    def forward(self, numerical_node_features, categorical_node_features, bias, adj, padding):\n",
    "\n",
    "        B, L, _ = categorical_node_features.size()\n",
    "\n",
    "        # Create causal and padding masks\n",
    "\n",
    "        padding_mask = padding.unsqueeze(-1).expand(B, L, self.E)\n",
    "        padding_causal_mask = torch.logical_or(\n",
    "            padding.unsqueeze(-2), padding.unsqueeze(-1)\n",
    "        )\n",
    "        graph_causal_mask = (~adj)\n",
    "        diag_causal_mask = torch.diag(torch.ones(L)).bool().expand_as(padding_causal_mask).to(padding.device)\n",
    "\n",
    "        # Forward Pass\n",
    "\n",
    "        x = sum(embed(categorical_node_features[:, :, i]) for i, embed in enumerate(self.categorical_embeds))\n",
    "        x += self.numerical_embed(numerical_node_features)\n",
    "\n",
    "        for block_type, transformer_block in zip(self.stack, self.transformer_blocks):\n",
    "            if block_type == 'L': \n",
    "                x = transformer_block(x, padding_mask, graph_causal_mask)\n",
    "            elif block_type == 'G':\n",
    "                x = transformer_block(x, padding_mask, padding_causal_mask | diag_causal_mask, bias)\n",
    "            \n",
    "            if torch.any(x.isnan()):\n",
    "                raise Exception(f'NaN at {block_type}-block {transformer_block}')\n",
    "        \n",
    "        x = x.sum(dim=1) # (B, E)\n",
    "\n",
    "        return self.out_map(x)\n"
   ]
  },
  {
   "cell_type": "code",
   "execution_count": 7,
   "id": "d0d30a92-2272-4e41-ad6a-b210c202eb93",
   "metadata": {
    "jupyter": {
     "source_hidden": true
    }
   },
   "outputs": [],
   "source": [
    "hyperparameters = dict(\n",
    "    numerical_features=5, categorical_features=(9+1, 8+1, 2+1, 2+1), \n",
    "    E=32, H=2, stack='G', \n",
    "    dropout=0.1, \n",
    "    out_features=dataset.n_properties, \n",
    ")\n",
    "\n",
    "model = GraphTransformer(**hyperparameters).to(device)"
   ]
  },
  {
   "cell_type": "markdown",
   "id": "5af1726b-9bf2-47e0-9b3c-9f8ed11a4e4d",
   "metadata": {},
   "source": [
    "## Train"
   ]
  },
  {
   "cell_type": "code",
   "execution_count": 8,
   "id": "ec28d960-8219-4ace-8a43-617ad9b55730",
   "metadata": {},
   "outputs": [],
   "source": [
    "optimizer = torch.optim.Adam(model.parameters())\n",
    "mse = nn.MSELoss()"
   ]
  },
  {
   "cell_type": "code",
   "execution_count": 28,
   "id": "1d58e2ef-04b8-4b82-bfdb-4dd7b64c456f",
   "metadata": {},
   "outputs": [
    {
     "name": "stdout",
     "output_type": "stream",
     "text": [
      "tensor(2.6249, grad_fn=<MseLossBackward0>)\n"
     ]
    },
    {
     "name": "stderr",
     "output_type": "stream",
     "text": [
      "/home/jshe/ipykernel_2059071/3503062585.py:3: UserWarning: Anomaly Detection has been enabled. This mode will increase the runtime and should only be enabled for debugging.\n",
      "  with torch.autograd.detect_anomaly():\n"
     ]
    }
   ],
   "source": [
    "optimizer.zero_grad()\n",
    "\n",
    "with torch.autograd.detect_anomaly():\n",
    "    #smiles, d, y_true = next(iter(train_dataloader))\n",
    "    #numerical_node_features, categorical_node_features, edges, padding = smiles_to_graphs(smiles, device=device)\n",
    "    \n",
    "    y_pred = model(\n",
    "        numerical_node_features.float(), categorical_node_features, \n",
    "        -2 * torch.log(d.unsqueeze(1)), \n",
    "        edges, padding\n",
    "    )\n",
    "    loss = mse(y_pred, y_true.to(device))\n",
    "    loss.backward()\n",
    "    optimizer.step()\n",
    "\n",
    "    print(loss)"
   ]
  },
  {
   "cell_type": "code",
   "execution_count": null,
   "id": "a8824ba7-94e1-4bc4-bf6b-5169c6dc9fb4",
   "metadata": {},
   "outputs": [],
   "source": []
  }
 ],
 "metadata": {
  "kernelspec": {
   "display_name": "Python 3 (ipykernel)",
   "language": "python",
   "name": "python3"
  },
  "language_info": {
   "codemirror_mode": {
    "name": "ipython",
    "version": 3
   },
   "file_extension": ".py",
   "mimetype": "text/x-python",
   "name": "python",
   "nbconvert_exporter": "python",
   "pygments_lexer": "ipython3",
   "version": "3.9.21"
  }
 },
 "nbformat": 4,
 "nbformat_minor": 5
}

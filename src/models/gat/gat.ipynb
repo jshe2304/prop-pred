{
 "cells": [
  {
   "cell_type": "code",
   "execution_count": 1,
   "id": "1d98203e-f090-4032-92a7-c654c803e133",
   "metadata": {},
   "outputs": [],
   "source": [
    "import sys\n",
    "import matplotlib.pyplot as plt\n",
    "import pandas\n",
    "\n",
    "sys.path.append('/home/jshe/prop-pred/src/data')\n",
    "from data_utils import *\n",
    "\n",
    "import torch\n",
    "import torch.nn as nn\n",
    "import torch_geometric as torchg\n",
    "import torch_geometric.nn as gnn\n",
    "from torch_geometric.loader import DataLoader\n",
    "from torch_geometric.utils import from_smiles\n",
    "\n",
    "from rdkit.Chem import MolFromSmiles\n",
    "\n",
    "#from gin import GIN\n",
    "\n",
    "device = torch.device('cuda:0' if torch.cuda.is_available() else 'cpu')\n",
    "\n",
    "%load_ext autoreload\n",
    "%autoreload 2"
   ]
  },
  {
   "cell_type": "markdown",
   "id": "b9d9ce68-3a4c-446d-9c20-3b854bb09bd7",
   "metadata": {},
   "source": [
    "## Data"
   ]
  },
  {
   "cell_type": "code",
   "execution_count": 2,
   "id": "1580ec8d-4c68-4167-8cf4-5b825d3f424a",
   "metadata": {},
   "outputs": [],
   "source": [
    "datadir = '../../data/regress_immuno/'\n",
    "data = to_namedtuple(to_tensor(load_data(datadir), device))"
   ]
  },
  {
   "cell_type": "code",
   "execution_count": 3,
   "id": "eaac90c8-23a3-43c8-a78a-ee82c83c453e",
   "metadata": {},
   "outputs": [],
   "source": [
    "train_X = torch.concat((\n",
    "    data.train.embeddings, \n",
    "    #data.train.fingerprints\n",
    "), axis=1)\n",
    "validation_X = torch.concat((\n",
    "    data.validation.embeddings, \n",
    "    #data.validation.fingerprints\n",
    "), axis=1)\n",
    "test_X = torch.concat((\n",
    "    data.test.embeddings, \n",
    "    #ata.test.fingerprints\n",
    "), axis=1)"
   ]
  },
  {
   "cell_type": "code",
   "execution_count": 4,
   "id": "dd9c3d11-26dc-4224-9876-92ddedcb7ac2",
   "metadata": {},
   "outputs": [],
   "source": [
    "train_Y = torch.concat((\n",
    "    data.train.y, \n",
    "    #data.train.y_rdkit, \n",
    "), axis=1)[:, 0].unsqueeze(-1)\n",
    "validation_Y = torch.concat((\n",
    "    data.validation.y, \n",
    "    #data.validation.y_rdkit\n",
    "), axis=1)[:, 0].unsqueeze(-1)\n",
    "test_Y = torch.concat((\n",
    "    data.test.y, \n",
    "    #data.test.y_rdkit, \n",
    "), axis=1)[:, 0].unsqueeze(-1)"
   ]
  },
  {
   "cell_type": "code",
   "execution_count": 5,
   "id": "966496d2-762c-4644-96d4-6aba6b20dc20",
   "metadata": {},
   "outputs": [],
   "source": [
    "train_graphs = [from_smiles(smiles) for smiles in data.train.smiles]\n",
    "\n",
    "train_loader = DataLoader(train_graphs, batch_size=32, shuffle=False)"
   ]
  },
  {
   "cell_type": "code",
   "execution_count": 6,
   "id": "b524fc5c-d11d-4976-a585-c0b7869c3a7a",
   "metadata": {},
   "outputs": [
    {
     "data": {
      "image/png": "[encoded data removed]",
      "text/plain": [
       "<rdkit.Chem.rdchem.Mol at 0x7f63337aa350>"
      ]
     },
     "execution_count": 6,
     "metadata": {},
     "output_type": "execute_result"
    }
   ],
   "source": [
    "MolFromSmiles(data.train.smiles[0])"
   ]
  },
  {
   "cell_type": "markdown",
   "id": "29c6c9ec-cbbf-4c3a-b9ee-8097b0e6b569",
   "metadata": {},
   "source": [
    "## Model"
   ]
  },
  {
   "cell_type": "code",
   "execution_count": 7,
   "id": "c5e162da-a9df-4741-8d6c-518d2c954215",
   "metadata": {},
   "outputs": [],
   "source": [
    "x = next(iter(train_loader)).to(device)"
   ]
  },
  {
   "cell_type": "code",
   "execution_count": 8,
   "id": "5ede0598-50c4-4a5b-a5c7-124efd86c10d",
   "metadata": {},
   "outputs": [],
   "source": [
    "conv1 = gnn.GATv2Conv(\n",
    "    in_channels=9, out_channels=256, \n",
    "    heads=1, dropout=0.4, edge_dim=3\n",
    ").to(device)"
   ]
  },
  {
   "cell_type": "code",
   "execution_count": 9,
   "id": "239237e3-afb4-4bc0-9eb8-253f2d62a466",
   "metadata": {},
   "outputs": [],
   "source": [
    "embedding_dim = 16\n",
    "attention_dim = 8\n",
    "\n",
    "embed = nn.Linear(\n",
    "    in_features=9, \n",
    "    out_features=embedding_dim, \n",
    "    bias=False\n",
    ")\n",
    "\n",
    "query = nn.Linear(\n",
    "    in_features=9, \n",
    "    out_features=attention_dim, \n",
    "    bias=False\n",
    ")\n",
    "\n",
    "key = nn.Linear(\n",
    "    in_features=9, \n",
    "    out_features=attention_dim, \n",
    "    bias=False\n",
    ")\n",
    "\n",
    "value = nn.Linear(\n",
    "    in_features=9, \n",
    "    out_features=attention_dim, \n",
    "    bias=False\n",
    ")"
   ]
  },
  {
   "cell_type": "code",
   "execution_count": 13,
   "id": "f6974a99-e8a9-4350-adea-7fa9b770588b",
   "metadata": {},
   "outputs": [],
   "source": [
    "x.edge_index\n",
    "\n",
    "sparse = torch.sparse_coo_tensor(\n",
    "    indices=x.edge_index, \n",
    "    values=torch.ones(x.edge_index.shape[1]), \n",
    "    size=x.x.shape, \n",
    "    device=device\n",
    ")"
   ]
  },
  {
   "cell_type": "code",
   "execution_count": null,
   "id": "a2dfa34f-4a19-42b4-b25b-1c76df0b14df",
   "metadata": {},
   "outputs": [],
   "source": [
    "sparse.long().to_dense()"
   ]
  },
  {
   "cell_type": "code",
   "execution_count": null,
   "id": "374253da-d307-446d-912b-00d88814d020",
   "metadata": {},
   "outputs": [],
   "source": []
  }
 ],
 "metadata": {
  "kernelspec": {
   "display_name": "Python 3 (ipykernel)",
   "language": "python",
   "name": "python3"
  },
  "language_info": {
   "codemirror_mode": {
    "name": "ipython",
    "version": 3
   },
   "file_extension": ".py",
   "mimetype": "text/x-python",
   "name": "python",
   "nbconvert_exporter": "python",
   "pygments_lexer": "ipython3",
   "version": "3.9.21"
  }
 },
 "nbformat": 4,
 "nbformat_minor": 5
}
